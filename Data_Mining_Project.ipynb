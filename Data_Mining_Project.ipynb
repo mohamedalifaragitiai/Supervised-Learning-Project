{
  "nbformat": 4,
  "nbformat_minor": 0,
  "metadata": {
    "colab": {
      "name": "Data_Mining_Project.ipynb",
      "provenance": [],
      "collapsed_sections": [],
      "toc_visible": true
    },
    "kernelspec": {
      "display_name": "Python 3",
      "language": "python",
      "name": "python3"
    },
    "language_info": {
      "codemirror_mode": {
        "name": "ipython",
        "version": 3
      },
      "file_extension": ".py",
      "mimetype": "text/x-python",
      "name": "python",
      "nbconvert_exporter": "python",
      "pygments_lexer": "ipython3",
      "version": "3.7.7"
    }
  },
  "cells": [
    {
      "cell_type": "markdown",
      "metadata": {
        "id": "U6baPOnOga0H"
      },
      "source": [
        "# Titanic Survival Prediction Data Mining Project\n",
        "\n",
        "## Mohamed Ali Farag\n",
        "\n",
        "\n"
      ]
    },
    {
      "cell_type": "markdown",
      "metadata": {
        "id": "FJTIaZo7ga0I"
      },
      "source": [
        "1. [Import Libraries](#heading1)<br>\n",
        "2. [Read Data](#heading2)<br>\n",
        "3. [Data Cleaning & Feature Engineering](#heading3)<br>\n",
        "4. [Exploratory Data Analysis](#heading4)<br>\n",
        "5. [Model Building & Evaluation](#heading5)<br>\n",
        "  5.1 [Logistic Regression](#subheading1)<br>\n",
        "  5.2 [Gaussian Naive Bayes](#subheading2)<br>\n",
        "  5.3 [Linear Discriminant Analysis (LDA)](#subheading3)<br>\n",
        "  5.4 [k Nearest Neighbors (kNN)](#subheading4)<br>\n",
        "  5.5 [Support Vector Machine (SVM)](#subheading5)<br>\n",
        "  5.6 [Decision Tree](#subheading6)<br>\n",
        "  5.7 [Random Forest](#subheading7)<br>\n",
        "  5.8 [XGBoost](#subheading8)<br>\n",
        "  5.9 [Model Stacking](#subheading9)<br>\n",
        "  5.10 [Result Comparison](#subheading10)<br>\n",
        "6. [Conclusion](#heading6)<br>"
      ]
    },
    {
      "cell_type": "markdown",
      "metadata": {
        "id": "7PKWK1yXga0K"
      },
      "source": [
        "## 1. Import Libraries <a id=\"heading1\"></a>"
      ]
    },
    {
      "cell_type": "code",
      "metadata": {
        "id": "K0bFyy8tga0K"
      },
      "source": [
        "import numpy as np\n",
        "import pandas as pd\n",
        "import matplotlib.pyplot as plt\n",
        "%matplotlib inline\n",
        "import seaborn as sns\n",
        "from sklearn.preprocessing import MinMaxScaler, LabelEncoder\n",
        "from sklearn.model_selection import GridSearchCV, RepeatedStratifiedKFold\n",
        "from sklearn.linear_model import LogisticRegression\n",
        "from sklearn.naive_bayes import GaussianNB\n",
        "from sklearn.discriminant_analysis import LinearDiscriminantAnalysis\n",
        "from sklearn.neighbors import KNeighborsClassifier\n",
        "from sklearn.svm import SVC\n",
        "from sklearn.tree import DecisionTreeClassifier\n",
        "from sklearn.ensemble import RandomForestClassifier, StackingClassifier\n",
        "import xgboost as xgb"
      ],
      "execution_count": null,
      "outputs": []
    },
    {
      "cell_type": "code",
      "metadata": {
        "id": "_BAwOka4ga0L"
      },
      "source": [
        "# Set seed value for reproducing the same results\n",
        "seed = 101"
      ],
      "execution_count": null,
      "outputs": []
    },
    {
      "cell_type": "markdown",
      "metadata": {
        "id": "j0yaq8Mgga0L"
      },
      "source": [
        "## 2. Read Data <a id=\"heading2\"></a>\n",
        "## Get Data\n",
        "Let's start by reading in the train.csv file into a pandas dataframe."
      ]
    },
    {
      "cell_type": "code",
      "metadata": {
        "id": "p8l3OQslga0M"
      },
      "source": [
        "import os\n",
        "from google.colab import drive\n",
        "drive.mount('/content/drive')\n",
        "ABS_PATH = '/content/drive/MyDrive/Colab Notebooks/Titanic-Survival-Prediction'\n",
        "DATA_PATH = os.path.join(ABS_PATH, 'dataset')\n",
        " \n",
        "TRAIN_DIR = os.path.join(DATA_PATH, 'train.csv')\n",
        "TEST_DIR = os.path.join(DATA_PATH, 'test.csv')\n",
        "\n",
        "\n",
        "train_data = pd.read_csv(TRAIN_DIR)\n",
        "test_data = pd.read_csv(TEST_DIR)"
      ],
      "execution_count": null,
      "outputs": []
    },
    {
      "cell_type": "code",
      "metadata": {
        "id": "3hFViENaga0N"
      },
      "source": [
        "# Train data preview\n",
        "train_data.head()"
      ],
      "execution_count": null,
      "outputs": []
    },
    {
      "cell_type": "code",
      "metadata": {
        "colab": {
          "base_uri": "https://localhost:8080/",
          "height": 204
        },
        "id": "Q_PXVqb2ga0O",
        "outputId": "0b8e9999-cd2c-4388-a41a-49af880ba240"
      },
      "source": [
        "# Test data preview\n",
        "test_data.head()"
      ],
      "execution_count": null,
      "outputs": [
        {
          "output_type": "execute_result",
          "data": {
            "text/html": [
              "<div>\n",
              "<style scoped>\n",
              "    .dataframe tbody tr th:only-of-type {\n",
              "        vertical-align: middle;\n",
              "    }\n",
              "\n",
              "    .dataframe tbody tr th {\n",
              "        vertical-align: top;\n",
              "    }\n",
              "\n",
              "    .dataframe thead th {\n",
              "        text-align: right;\n",
              "    }\n",
              "</style>\n",
              "<table border=\"1\" class=\"dataframe\">\n",
              "  <thead>\n",
              "    <tr style=\"text-align: right;\">\n",
              "      <th></th>\n",
              "      <th>PassengerId</th>\n",
              "      <th>Pclass</th>\n",
              "      <th>Name</th>\n",
              "      <th>Sex</th>\n",
              "      <th>Age</th>\n",
              "      <th>SibSp</th>\n",
              "      <th>Parch</th>\n",
              "      <th>Ticket</th>\n",
              "      <th>Fare</th>\n",
              "      <th>Cabin</th>\n",
              "      <th>Embarked</th>\n",
              "    </tr>\n",
              "  </thead>\n",
              "  <tbody>\n",
              "    <tr>\n",
              "      <th>0</th>\n",
              "      <td>892</td>\n",
              "      <td>3</td>\n",
              "      <td>Kelly, Mr. James</td>\n",
              "      <td>male</td>\n",
              "      <td>34.5</td>\n",
              "      <td>0</td>\n",
              "      <td>0</td>\n",
              "      <td>330911</td>\n",
              "      <td>7.8292</td>\n",
              "      <td>NaN</td>\n",
              "      <td>Q</td>\n",
              "    </tr>\n",
              "    <tr>\n",
              "      <th>1</th>\n",
              "      <td>893</td>\n",
              "      <td>3</td>\n",
              "      <td>Wilkes, Mrs. James (Ellen Needs)</td>\n",
              "      <td>female</td>\n",
              "      <td>47.0</td>\n",
              "      <td>1</td>\n",
              "      <td>0</td>\n",
              "      <td>363272</td>\n",
              "      <td>7.0000</td>\n",
              "      <td>NaN</td>\n",
              "      <td>S</td>\n",
              "    </tr>\n",
              "    <tr>\n",
              "      <th>2</th>\n",
              "      <td>894</td>\n",
              "      <td>2</td>\n",
              "      <td>Myles, Mr. Thomas Francis</td>\n",
              "      <td>male</td>\n",
              "      <td>62.0</td>\n",
              "      <td>0</td>\n",
              "      <td>0</td>\n",
              "      <td>240276</td>\n",
              "      <td>9.6875</td>\n",
              "      <td>NaN</td>\n",
              "      <td>Q</td>\n",
              "    </tr>\n",
              "    <tr>\n",
              "      <th>3</th>\n",
              "      <td>895</td>\n",
              "      <td>3</td>\n",
              "      <td>Wirz, Mr. Albert</td>\n",
              "      <td>male</td>\n",
              "      <td>27.0</td>\n",
              "      <td>0</td>\n",
              "      <td>0</td>\n",
              "      <td>315154</td>\n",
              "      <td>8.6625</td>\n",
              "      <td>NaN</td>\n",
              "      <td>S</td>\n",
              "    </tr>\n",
              "    <tr>\n",
              "      <th>4</th>\n",
              "      <td>896</td>\n",
              "      <td>3</td>\n",
              "      <td>Hirvonen, Mrs. Alexander (Helga E Lindqvist)</td>\n",
              "      <td>female</td>\n",
              "      <td>22.0</td>\n",
              "      <td>1</td>\n",
              "      <td>1</td>\n",
              "      <td>3101298</td>\n",
              "      <td>12.2875</td>\n",
              "      <td>NaN</td>\n",
              "      <td>S</td>\n",
              "    </tr>\n",
              "  </tbody>\n",
              "</table>\n",
              "</div>"
            ],
            "text/plain": [
              "   PassengerId  Pclass  ... Cabin Embarked\n",
              "0          892       3  ...   NaN        Q\n",
              "1          893       3  ...   NaN        S\n",
              "2          894       2  ...   NaN        Q\n",
              "3          895       3  ...   NaN        S\n",
              "4          896       3  ...   NaN        S\n",
              "\n",
              "[5 rows x 11 columns]"
            ]
          },
          "metadata": {
            "tags": []
          },
          "execution_count": 6
        }
      ]
    },
    {
      "cell_type": "markdown",
      "metadata": {
        "id": "XIfoapwJga0P"
      },
      "source": [
        "We can see that the 'Survived' column is missing in the test set. We have to predict that label for each passenger in the test data."
      ]
    },
    {
      "cell_type": "code",
      "metadata": {
        "colab": {
          "base_uri": "https://localhost:8080/"
        },
        "id": "G2b5sl9xga0Q",
        "outputId": "a5b567cb-0c75-4cd5-e90b-970bb437c448"
      },
      "source": [
        "# Summary of train data\n",
        "train_data.info()"
      ],
      "execution_count": null,
      "outputs": [
        {
          "output_type": "stream",
          "text": [
            "<class 'pandas.core.frame.DataFrame'>\n",
            "RangeIndex: 891 entries, 0 to 890\n",
            "Data columns (total 12 columns):\n",
            " #   Column       Non-Null Count  Dtype  \n",
            "---  ------       --------------  -----  \n",
            " 0   PassengerId  891 non-null    int64  \n",
            " 1   Survived     891 non-null    int64  \n",
            " 2   Pclass       891 non-null    int64  \n",
            " 3   Name         891 non-null    object \n",
            " 4   Sex          891 non-null    object \n",
            " 5   Age          714 non-null    float64\n",
            " 6   SibSp        891 non-null    int64  \n",
            " 7   Parch        891 non-null    int64  \n",
            " 8   Ticket       891 non-null    object \n",
            " 9   Fare         891 non-null    float64\n",
            " 10  Cabin        204 non-null    object \n",
            " 11  Embarked     889 non-null    object \n",
            "dtypes: float64(2), int64(5), object(5)\n",
            "memory usage: 83.7+ KB\n"
          ],
          "name": "stdout"
        }
      ]
    },
    {
      "cell_type": "code",
      "metadata": {
        "colab": {
          "base_uri": "https://localhost:8080/"
        },
        "id": "Y55FOlo2ga0Q",
        "outputId": "b5f1b5e0-4264-4543-be50-e84b510beae2"
      },
      "source": [
        "# Summary of test data\n",
        "test_data.info()"
      ],
      "execution_count": null,
      "outputs": [
        {
          "output_type": "stream",
          "text": [
            "<class 'pandas.core.frame.DataFrame'>\n",
            "RangeIndex: 418 entries, 0 to 417\n",
            "Data columns (total 11 columns):\n",
            " #   Column       Non-Null Count  Dtype  \n",
            "---  ------       --------------  -----  \n",
            " 0   PassengerId  418 non-null    int64  \n",
            " 1   Pclass       418 non-null    int64  \n",
            " 2   Name         418 non-null    object \n",
            " 3   Sex          418 non-null    object \n",
            " 4   Age          332 non-null    float64\n",
            " 5   SibSp        418 non-null    int64  \n",
            " 6   Parch        418 non-null    int64  \n",
            " 7   Ticket       418 non-null    object \n",
            " 8   Fare         417 non-null    float64\n",
            " 9   Cabin        91 non-null     object \n",
            " 10  Embarked     418 non-null    object \n",
            "dtypes: float64(2), int64(4), object(5)\n",
            "memory usage: 36.0+ KB\n"
          ],
          "name": "stdout"
        }
      ]
    },
    {
      "cell_type": "markdown",
      "metadata": {
        "id": "ANAK8ZwGga0R"
      },
      "source": [
        "## 3. Data Cleaning & Feature Engineering <a id=\"heading3\"></a>"
      ]
    },
    {
      "cell_type": "code",
      "metadata": {
        "colab": {
          "base_uri": "https://localhost:8080/",
          "height": 297
        },
        "id": "KX0naDzDga0R",
        "outputId": "a453c910-56ea-47bb-c0a7-943165478b60"
      },
      "source": [
        "# Train data descriptive statistics\n",
        "train_data.describe()"
      ],
      "execution_count": null,
      "outputs": [
        {
          "output_type": "execute_result",
          "data": {
            "text/html": [
              "<div>\n",
              "<style scoped>\n",
              "    .dataframe tbody tr th:only-of-type {\n",
              "        vertical-align: middle;\n",
              "    }\n",
              "\n",
              "    .dataframe tbody tr th {\n",
              "        vertical-align: top;\n",
              "    }\n",
              "\n",
              "    .dataframe thead th {\n",
              "        text-align: right;\n",
              "    }\n",
              "</style>\n",
              "<table border=\"1\" class=\"dataframe\">\n",
              "  <thead>\n",
              "    <tr style=\"text-align: right;\">\n",
              "      <th></th>\n",
              "      <th>PassengerId</th>\n",
              "      <th>Survived</th>\n",
              "      <th>Pclass</th>\n",
              "      <th>Age</th>\n",
              "      <th>SibSp</th>\n",
              "      <th>Parch</th>\n",
              "      <th>Fare</th>\n",
              "    </tr>\n",
              "  </thead>\n",
              "  <tbody>\n",
              "    <tr>\n",
              "      <th>count</th>\n",
              "      <td>891.000000</td>\n",
              "      <td>891.000000</td>\n",
              "      <td>891.000000</td>\n",
              "      <td>714.000000</td>\n",
              "      <td>891.000000</td>\n",
              "      <td>891.000000</td>\n",
              "      <td>891.000000</td>\n",
              "    </tr>\n",
              "    <tr>\n",
              "      <th>mean</th>\n",
              "      <td>446.000000</td>\n",
              "      <td>0.383838</td>\n",
              "      <td>2.308642</td>\n",
              "      <td>29.699118</td>\n",
              "      <td>0.523008</td>\n",
              "      <td>0.381594</td>\n",
              "      <td>32.204208</td>\n",
              "    </tr>\n",
              "    <tr>\n",
              "      <th>std</th>\n",
              "      <td>257.353842</td>\n",
              "      <td>0.486592</td>\n",
              "      <td>0.836071</td>\n",
              "      <td>14.526497</td>\n",
              "      <td>1.102743</td>\n",
              "      <td>0.806057</td>\n",
              "      <td>49.693429</td>\n",
              "    </tr>\n",
              "    <tr>\n",
              "      <th>min</th>\n",
              "      <td>1.000000</td>\n",
              "      <td>0.000000</td>\n",
              "      <td>1.000000</td>\n",
              "      <td>0.420000</td>\n",
              "      <td>0.000000</td>\n",
              "      <td>0.000000</td>\n",
              "      <td>0.000000</td>\n",
              "    </tr>\n",
              "    <tr>\n",
              "      <th>25%</th>\n",
              "      <td>223.500000</td>\n",
              "      <td>0.000000</td>\n",
              "      <td>2.000000</td>\n",
              "      <td>20.125000</td>\n",
              "      <td>0.000000</td>\n",
              "      <td>0.000000</td>\n",
              "      <td>7.910400</td>\n",
              "    </tr>\n",
              "    <tr>\n",
              "      <th>50%</th>\n",
              "      <td>446.000000</td>\n",
              "      <td>0.000000</td>\n",
              "      <td>3.000000</td>\n",
              "      <td>28.000000</td>\n",
              "      <td>0.000000</td>\n",
              "      <td>0.000000</td>\n",
              "      <td>14.454200</td>\n",
              "    </tr>\n",
              "    <tr>\n",
              "      <th>75%</th>\n",
              "      <td>668.500000</td>\n",
              "      <td>1.000000</td>\n",
              "      <td>3.000000</td>\n",
              "      <td>38.000000</td>\n",
              "      <td>1.000000</td>\n",
              "      <td>0.000000</td>\n",
              "      <td>31.000000</td>\n",
              "    </tr>\n",
              "    <tr>\n",
              "      <th>max</th>\n",
              "      <td>891.000000</td>\n",
              "      <td>1.000000</td>\n",
              "      <td>3.000000</td>\n",
              "      <td>80.000000</td>\n",
              "      <td>8.000000</td>\n",
              "      <td>6.000000</td>\n",
              "      <td>512.329200</td>\n",
              "    </tr>\n",
              "  </tbody>\n",
              "</table>\n",
              "</div>"
            ],
            "text/plain": [
              "       PassengerId    Survived      Pclass  ...       SibSp       Parch        Fare\n",
              "count   891.000000  891.000000  891.000000  ...  891.000000  891.000000  891.000000\n",
              "mean    446.000000    0.383838    2.308642  ...    0.523008    0.381594   32.204208\n",
              "std     257.353842    0.486592    0.836071  ...    1.102743    0.806057   49.693429\n",
              "min       1.000000    0.000000    1.000000  ...    0.000000    0.000000    0.000000\n",
              "25%     223.500000    0.000000    2.000000  ...    0.000000    0.000000    7.910400\n",
              "50%     446.000000    0.000000    3.000000  ...    0.000000    0.000000   14.454200\n",
              "75%     668.500000    1.000000    3.000000  ...    1.000000    0.000000   31.000000\n",
              "max     891.000000    1.000000    3.000000  ...    8.000000    6.000000  512.329200\n",
              "\n",
              "[8 rows x 7 columns]"
            ]
          },
          "metadata": {
            "tags": []
          },
          "execution_count": 9
        }
      ]
    },
    {
      "cell_type": "code",
      "metadata": {
        "colab": {
          "base_uri": "https://localhost:8080/",
          "height": 297
        },
        "id": "yDe-KS6cga0S",
        "outputId": "26dd2bf7-49c4-480c-a530-d8e191b10fee"
      },
      "source": [
        "# Test data descriptive statistics\n",
        "test_data.describe()"
      ],
      "execution_count": null,
      "outputs": [
        {
          "output_type": "execute_result",
          "data": {
            "text/html": [
              "<div>\n",
              "<style scoped>\n",
              "    .dataframe tbody tr th:only-of-type {\n",
              "        vertical-align: middle;\n",
              "    }\n",
              "\n",
              "    .dataframe tbody tr th {\n",
              "        vertical-align: top;\n",
              "    }\n",
              "\n",
              "    .dataframe thead th {\n",
              "        text-align: right;\n",
              "    }\n",
              "</style>\n",
              "<table border=\"1\" class=\"dataframe\">\n",
              "  <thead>\n",
              "    <tr style=\"text-align: right;\">\n",
              "      <th></th>\n",
              "      <th>PassengerId</th>\n",
              "      <th>Pclass</th>\n",
              "      <th>Age</th>\n",
              "      <th>SibSp</th>\n",
              "      <th>Parch</th>\n",
              "      <th>Fare</th>\n",
              "    </tr>\n",
              "  </thead>\n",
              "  <tbody>\n",
              "    <tr>\n",
              "      <th>count</th>\n",
              "      <td>418.000000</td>\n",
              "      <td>418.000000</td>\n",
              "      <td>332.000000</td>\n",
              "      <td>418.000000</td>\n",
              "      <td>418.000000</td>\n",
              "      <td>417.000000</td>\n",
              "    </tr>\n",
              "    <tr>\n",
              "      <th>mean</th>\n",
              "      <td>1100.500000</td>\n",
              "      <td>2.265550</td>\n",
              "      <td>30.272590</td>\n",
              "      <td>0.447368</td>\n",
              "      <td>0.392344</td>\n",
              "      <td>35.627188</td>\n",
              "    </tr>\n",
              "    <tr>\n",
              "      <th>std</th>\n",
              "      <td>120.810458</td>\n",
              "      <td>0.841838</td>\n",
              "      <td>14.181209</td>\n",
              "      <td>0.896760</td>\n",
              "      <td>0.981429</td>\n",
              "      <td>55.907576</td>\n",
              "    </tr>\n",
              "    <tr>\n",
              "      <th>min</th>\n",
              "      <td>892.000000</td>\n",
              "      <td>1.000000</td>\n",
              "      <td>0.170000</td>\n",
              "      <td>0.000000</td>\n",
              "      <td>0.000000</td>\n",
              "      <td>0.000000</td>\n",
              "    </tr>\n",
              "    <tr>\n",
              "      <th>25%</th>\n",
              "      <td>996.250000</td>\n",
              "      <td>1.000000</td>\n",
              "      <td>21.000000</td>\n",
              "      <td>0.000000</td>\n",
              "      <td>0.000000</td>\n",
              "      <td>7.895800</td>\n",
              "    </tr>\n",
              "    <tr>\n",
              "      <th>50%</th>\n",
              "      <td>1100.500000</td>\n",
              "      <td>3.000000</td>\n",
              "      <td>27.000000</td>\n",
              "      <td>0.000000</td>\n",
              "      <td>0.000000</td>\n",
              "      <td>14.454200</td>\n",
              "    </tr>\n",
              "    <tr>\n",
              "      <th>75%</th>\n",
              "      <td>1204.750000</td>\n",
              "      <td>3.000000</td>\n",
              "      <td>39.000000</td>\n",
              "      <td>1.000000</td>\n",
              "      <td>0.000000</td>\n",
              "      <td>31.500000</td>\n",
              "    </tr>\n",
              "    <tr>\n",
              "      <th>max</th>\n",
              "      <td>1309.000000</td>\n",
              "      <td>3.000000</td>\n",
              "      <td>76.000000</td>\n",
              "      <td>8.000000</td>\n",
              "      <td>9.000000</td>\n",
              "      <td>512.329200</td>\n",
              "    </tr>\n",
              "  </tbody>\n",
              "</table>\n",
              "</div>"
            ],
            "text/plain": [
              "       PassengerId      Pclass         Age       SibSp       Parch        Fare\n",
              "count   418.000000  418.000000  332.000000  418.000000  418.000000  417.000000\n",
              "mean   1100.500000    2.265550   30.272590    0.447368    0.392344   35.627188\n",
              "std     120.810458    0.841838   14.181209    0.896760    0.981429   55.907576\n",
              "min     892.000000    1.000000    0.170000    0.000000    0.000000    0.000000\n",
              "25%     996.250000    1.000000   21.000000    0.000000    0.000000    7.895800\n",
              "50%    1100.500000    3.000000   27.000000    0.000000    0.000000   14.454200\n",
              "75%    1204.750000    3.000000   39.000000    1.000000    0.000000   31.500000\n",
              "max    1309.000000    3.000000   76.000000    8.000000    9.000000  512.329200"
            ]
          },
          "metadata": {
            "tags": []
          },
          "execution_count": 10
        }
      ]
    },
    {
      "cell_type": "markdown",
      "metadata": {
        "id": "hzC_DBqVga0S"
      },
      "source": [
        "For both train and test datasets, the statistics for 'Fare' column seem a bit strange. The minimum fare is 0 and the maximum is around 512, with 75% of values less than 31.5 and the mean being 35.6. We need to analyze this further to see if there are any outliers.\n",
        "\n",
        "For this purpose, we can make use of a boxplot. It will help us understand the variation in the 'Fare' values by visually displaying the distribution of the data points."
      ]
    },
    {
      "cell_type": "code",
      "metadata": {
        "colab": {
          "base_uri": "https://localhost:8080/",
          "height": 336
        },
        "id": "PWw2LGCvga0S",
        "outputId": "d43333c5-fc86-4282-a567-710b152f5b69"
      },
      "source": [
        "plt.subplots(figsize=(7, 5))\n",
        "plt.boxplot(train_data['Fare'])\n",
        "plt.title('Boxplot of Fare')\n",
        "plt.show()"
      ],
      "execution_count": null,
      "outputs": [
        {
          "output_type": "display_data",
          "data": {
            "image/png": "[encoded data removed]",
            "text/plain": [
              "<Figure size 504x360 with 1 Axes>"
            ]
          },
          "metadata": {
            "tags": []
          }
        }
      ]
    },
    {
      "cell_type": "markdown",
      "metadata": {
        "id": "3Pa4cIChga0T"
      },
      "source": [
        "It seems like there are a few extreme data points. Let's explore this further."
      ]
    },
    {
      "cell_type": "code",
      "metadata": {
        "colab": {
          "base_uri": "https://localhost:8080/",
          "height": 142
        },
        "id": "IHtLwUmDga0T",
        "outputId": "ffad4b15-8328-41d6-d2f1-41c482a9709c"
      },
      "source": [
        "# Retrieve rows with Fare greater than 500\n",
        "train_data[train_data['Fare']>500]"
      ],
      "execution_count": null,
      "outputs": [
        {
          "output_type": "execute_result",
          "data": {
            "text/html": [
              "<div>\n",
              "<style scoped>\n",
              "    .dataframe tbody tr th:only-of-type {\n",
              "        vertical-align: middle;\n",
              "    }\n",
              "\n",
              "    .dataframe tbody tr th {\n",
              "        vertical-align: top;\n",
              "    }\n",
              "\n",
              "    .dataframe thead th {\n",
              "        text-align: right;\n",
              "    }\n",
              "</style>\n",
              "<table border=\"1\" class=\"dataframe\">\n",
              "  <thead>\n",
              "    <tr style=\"text-align: right;\">\n",
              "      <th></th>\n",
              "      <th>PassengerId</th>\n",
              "      <th>Survived</th>\n",
              "      <th>Pclass</th>\n",
              "      <th>Name</th>\n",
              "      <th>Sex</th>\n",
              "      <th>Age</th>\n",
              "      <th>SibSp</th>\n",
              "      <th>Parch</th>\n",
              "      <th>Ticket</th>\n",
              "      <th>Fare</th>\n",
              "      <th>Cabin</th>\n",
              "      <th>Embarked</th>\n",
              "    </tr>\n",
              "  </thead>\n",
              "  <tbody>\n",
              "    <tr>\n",
              "      <th>258</th>\n",
              "      <td>259</td>\n",
              "      <td>1</td>\n",
              "      <td>1</td>\n",
              "      <td>Ward, Miss. Anna</td>\n",
              "      <td>female</td>\n",
              "      <td>35.0</td>\n",
              "      <td>0</td>\n",
              "      <td>0</td>\n",
              "      <td>PC 17755</td>\n",
              "      <td>512.3292</td>\n",
              "      <td>NaN</td>\n",
              "      <td>C</td>\n",
              "    </tr>\n",
              "    <tr>\n",
              "      <th>679</th>\n",
              "      <td>680</td>\n",
              "      <td>1</td>\n",
              "      <td>1</td>\n",
              "      <td>Cardeza, Mr. Thomas Drake Martinez</td>\n",
              "      <td>male</td>\n",
              "      <td>36.0</td>\n",
              "      <td>0</td>\n",
              "      <td>1</td>\n",
              "      <td>PC 17755</td>\n",
              "      <td>512.3292</td>\n",
              "      <td>B51 B53 B55</td>\n",
              "      <td>C</td>\n",
              "    </tr>\n",
              "    <tr>\n",
              "      <th>737</th>\n",
              "      <td>738</td>\n",
              "      <td>1</td>\n",
              "      <td>1</td>\n",
              "      <td>Lesurer, Mr. Gustave J</td>\n",
              "      <td>male</td>\n",
              "      <td>35.0</td>\n",
              "      <td>0</td>\n",
              "      <td>0</td>\n",
              "      <td>PC 17755</td>\n",
              "      <td>512.3292</td>\n",
              "      <td>B101</td>\n",
              "      <td>C</td>\n",
              "    </tr>\n",
              "  </tbody>\n",
              "</table>\n",
              "</div>"
            ],
            "text/plain": [
              "     PassengerId  Survived  Pclass  ...      Fare        Cabin  Embarked\n",
              "258          259         1       1  ...  512.3292          NaN         C\n",
              "679          680         1       1  ...  512.3292  B51 B53 B55         C\n",
              "737          738         1       1  ...  512.3292         B101         C\n",
              "\n",
              "[3 rows x 12 columns]"
            ]
          },
          "metadata": {
            "tags": []
          },
          "execution_count": 12
        }
      ]
    },
    {
      "cell_type": "markdown",
      "metadata": {
        "id": "HgqCsX-Aga0T"
      },
      "source": [
        "Since all of the passengers have the same ticket number, we can conclude that the fare was calculated for the entire group and not each individual. Hence, we will not discard these rows.\n",
        "\n",
        "To standardize the fare calculation across all passengers in the dataset, the obvious step would be to divide fare by the number of people on the same ticket and get the individual fare. But factors such as reduced fares for children, missing values, etc., will further complicate things. Therefore, we will leave it as it is. For an in-depth understanding of the titanic dataset (particularly fare calculation), you can explore [Encyclopedia Titanica](https://www.encyclopedia-titanica.org/).\n",
        "\n",
        "Before we proceed further, we also need to analyze passengers who had 0 fare."
      ]
    },
    {
      "cell_type": "code",
      "metadata": {
        "colab": {
          "base_uri": "https://localhost:8080/",
          "height": 514
        },
        "id": "UMuFMngFga0U",
        "outputId": "38d4fa1e-97f1-4384-878e-d3ede3cbb390"
      },
      "source": [
        "# Retrieve rows with Fare equal to 0\n",
        "train_data[train_data['Fare']==0]"
      ],
      "execution_count": null,
      "outputs": [
        {
          "output_type": "execute_result",
          "data": {
            "text/html": [
              "<div>\n",
              "<style scoped>\n",
              "    .dataframe tbody tr th:only-of-type {\n",
              "        vertical-align: middle;\n",
              "    }\n",
              "\n",
              "    .dataframe tbody tr th {\n",
              "        vertical-align: top;\n",
              "    }\n",
              "\n",
              "    .dataframe thead th {\n",
              "        text-align: right;\n",
              "    }\n",
              "</style>\n",
              "<table border=\"1\" class=\"dataframe\">\n",
              "  <thead>\n",
              "    <tr style=\"text-align: right;\">\n",
              "      <th></th>\n",
              "      <th>PassengerId</th>\n",
              "      <th>Survived</th>\n",
              "      <th>Pclass</th>\n",
              "      <th>Name</th>\n",
              "      <th>Sex</th>\n",
              "      <th>Age</th>\n",
              "      <th>SibSp</th>\n",
              "      <th>Parch</th>\n",
              "      <th>Ticket</th>\n",
              "      <th>Fare</th>\n",
              "      <th>Cabin</th>\n",
              "      <th>Embarked</th>\n",
              "    </tr>\n",
              "  </thead>\n",
              "  <tbody>\n",
              "    <tr>\n",
              "      <th>179</th>\n",
              "      <td>180</td>\n",
              "      <td>0</td>\n",
              "      <td>3</td>\n",
              "      <td>Leonard, Mr. Lionel</td>\n",
              "      <td>male</td>\n",
              "      <td>36.0</td>\n",
              "      <td>0</td>\n",
              "      <td>0</td>\n",
              "      <td>LINE</td>\n",
              "      <td>0.0</td>\n",
              "      <td>NaN</td>\n",
              "      <td>S</td>\n",
              "    </tr>\n",
              "    <tr>\n",
              "      <th>263</th>\n",
              "      <td>264</td>\n",
              "      <td>0</td>\n",
              "      <td>1</td>\n",
              "      <td>Harrison, Mr. William</td>\n",
              "      <td>male</td>\n",
              "      <td>40.0</td>\n",
              "      <td>0</td>\n",
              "      <td>0</td>\n",
              "      <td>112059</td>\n",
              "      <td>0.0</td>\n",
              "      <td>B94</td>\n",
              "      <td>S</td>\n",
              "    </tr>\n",
              "    <tr>\n",
              "      <th>271</th>\n",
              "      <td>272</td>\n",
              "      <td>1</td>\n",
              "      <td>3</td>\n",
              "      <td>Tornquist, Mr. William Henry</td>\n",
              "      <td>male</td>\n",
              "      <td>25.0</td>\n",
              "      <td>0</td>\n",
              "      <td>0</td>\n",
              "      <td>LINE</td>\n",
              "      <td>0.0</td>\n",
              "      <td>NaN</td>\n",
              "      <td>S</td>\n",
              "    </tr>\n",
              "    <tr>\n",
              "      <th>277</th>\n",
              "      <td>278</td>\n",
              "      <td>0</td>\n",
              "      <td>2</td>\n",
              "      <td>Parkes, Mr. Francis \"Frank\"</td>\n",
              "      <td>male</td>\n",
              "      <td>NaN</td>\n",
              "      <td>0</td>\n",
              "      <td>0</td>\n",
              "      <td>239853</td>\n",
              "      <td>0.0</td>\n",
              "      <td>NaN</td>\n",
              "      <td>S</td>\n",
              "    </tr>\n",
              "    <tr>\n",
              "      <th>302</th>\n",
              "      <td>303</td>\n",
              "      <td>0</td>\n",
              "      <td>3</td>\n",
              "      <td>Johnson, Mr. William Cahoone Jr</td>\n",
              "      <td>male</td>\n",
              "      <td>19.0</td>\n",
              "      <td>0</td>\n",
              "      <td>0</td>\n",
              "      <td>LINE</td>\n",
              "      <td>0.0</td>\n",
              "      <td>NaN</td>\n",
              "      <td>S</td>\n",
              "    </tr>\n",
              "    <tr>\n",
              "      <th>413</th>\n",
              "      <td>414</td>\n",
              "      <td>0</td>\n",
              "      <td>2</td>\n",
              "      <td>Cunningham, Mr. Alfred Fleming</td>\n",
              "      <td>male</td>\n",
              "      <td>NaN</td>\n",
              "      <td>0</td>\n",
              "      <td>0</td>\n",
              "      <td>239853</td>\n",
              "      <td>0.0</td>\n",
              "      <td>NaN</td>\n",
              "      <td>S</td>\n",
              "    </tr>\n",
              "    <tr>\n",
              "      <th>466</th>\n",
              "      <td>467</td>\n",
              "      <td>0</td>\n",
              "      <td>2</td>\n",
              "      <td>Campbell, Mr. William</td>\n",
              "      <td>male</td>\n",
              "      <td>NaN</td>\n",
              "      <td>0</td>\n",
              "      <td>0</td>\n",
              "      <td>239853</td>\n",
              "      <td>0.0</td>\n",
              "      <td>NaN</td>\n",
              "      <td>S</td>\n",
              "    </tr>\n",
              "    <tr>\n",
              "      <th>481</th>\n",
              "      <td>482</td>\n",
              "      <td>0</td>\n",
              "      <td>2</td>\n",
              "      <td>Frost, Mr. Anthony Wood \"Archie\"</td>\n",
              "      <td>male</td>\n",
              "      <td>NaN</td>\n",
              "      <td>0</td>\n",
              "      <td>0</td>\n",
              "      <td>239854</td>\n",
              "      <td>0.0</td>\n",
              "      <td>NaN</td>\n",
              "      <td>S</td>\n",
              "    </tr>\n",
              "    <tr>\n",
              "      <th>597</th>\n",
              "      <td>598</td>\n",
              "      <td>0</td>\n",
              "      <td>3</td>\n",
              "      <td>Johnson, Mr. Alfred</td>\n",
              "      <td>male</td>\n",
              "      <td>49.0</td>\n",
              "      <td>0</td>\n",
              "      <td>0</td>\n",
              "      <td>LINE</td>\n",
              "      <td>0.0</td>\n",
              "      <td>NaN</td>\n",
              "      <td>S</td>\n",
              "    </tr>\n",
              "    <tr>\n",
              "      <th>633</th>\n",
              "      <td>634</td>\n",
              "      <td>0</td>\n",
              "      <td>1</td>\n",
              "      <td>Parr, Mr. William Henry Marsh</td>\n",
              "      <td>male</td>\n",
              "      <td>NaN</td>\n",
              "      <td>0</td>\n",
              "      <td>0</td>\n",
              "      <td>112052</td>\n",
              "      <td>0.0</td>\n",
              "      <td>NaN</td>\n",
              "      <td>S</td>\n",
              "    </tr>\n",
              "    <tr>\n",
              "      <th>674</th>\n",
              "      <td>675</td>\n",
              "      <td>0</td>\n",
              "      <td>2</td>\n",
              "      <td>Watson, Mr. Ennis Hastings</td>\n",
              "      <td>male</td>\n",
              "      <td>NaN</td>\n",
              "      <td>0</td>\n",
              "      <td>0</td>\n",
              "      <td>239856</td>\n",
              "      <td>0.0</td>\n",
              "      <td>NaN</td>\n",
              "      <td>S</td>\n",
              "    </tr>\n",
              "    <tr>\n",
              "      <th>732</th>\n",
              "      <td>733</td>\n",
              "      <td>0</td>\n",
              "      <td>2</td>\n",
              "      <td>Knight, Mr. Robert J</td>\n",
              "      <td>male</td>\n",
              "      <td>NaN</td>\n",
              "      <td>0</td>\n",
              "      <td>0</td>\n",
              "      <td>239855</td>\n",
              "      <td>0.0</td>\n",
              "      <td>NaN</td>\n",
              "      <td>S</td>\n",
              "    </tr>\n",
              "    <tr>\n",
              "      <th>806</th>\n",
              "      <td>807</td>\n",
              "      <td>0</td>\n",
              "      <td>1</td>\n",
              "      <td>Andrews, Mr. Thomas Jr</td>\n",
              "      <td>male</td>\n",
              "      <td>39.0</td>\n",
              "      <td>0</td>\n",
              "      <td>0</td>\n",
              "      <td>112050</td>\n",
              "      <td>0.0</td>\n",
              "      <td>A36</td>\n",
              "      <td>S</td>\n",
              "    </tr>\n",
              "    <tr>\n",
              "      <th>815</th>\n",
              "      <td>816</td>\n",
              "      <td>0</td>\n",
              "      <td>1</td>\n",
              "      <td>Fry, Mr. Richard</td>\n",
              "      <td>male</td>\n",
              "      <td>NaN</td>\n",
              "      <td>0</td>\n",
              "      <td>0</td>\n",
              "      <td>112058</td>\n",
              "      <td>0.0</td>\n",
              "      <td>B102</td>\n",
              "      <td>S</td>\n",
              "    </tr>\n",
              "    <tr>\n",
              "      <th>822</th>\n",
              "      <td>823</td>\n",
              "      <td>0</td>\n",
              "      <td>1</td>\n",
              "      <td>Reuchlin, Jonkheer. John George</td>\n",
              "      <td>male</td>\n",
              "      <td>38.0</td>\n",
              "      <td>0</td>\n",
              "      <td>0</td>\n",
              "      <td>19972</td>\n",
              "      <td>0.0</td>\n",
              "      <td>NaN</td>\n",
              "      <td>S</td>\n",
              "    </tr>\n",
              "  </tbody>\n",
              "</table>\n",
              "</div>"
            ],
            "text/plain": [
              "     PassengerId  Survived  Pclass  ... Fare Cabin  Embarked\n",
              "179          180         0       3  ...  0.0   NaN         S\n",
              "263          264         0       1  ...  0.0   B94         S\n",
              "271          272         1       3  ...  0.0   NaN         S\n",
              "277          278         0       2  ...  0.0   NaN         S\n",
              "302          303         0       3  ...  0.0   NaN         S\n",
              "413          414         0       2  ...  0.0   NaN         S\n",
              "466          467         0       2  ...  0.0   NaN         S\n",
              "481          482         0       2  ...  0.0   NaN         S\n",
              "597          598         0       3  ...  0.0   NaN         S\n",
              "633          634         0       1  ...  0.0   NaN         S\n",
              "674          675         0       2  ...  0.0   NaN         S\n",
              "732          733         0       2  ...  0.0   NaN         S\n",
              "806          807         0       1  ...  0.0   A36         S\n",
              "815          816         0       1  ...  0.0  B102         S\n",
              "822          823         0       1  ...  0.0   NaN         S\n",
              "\n",
              "[15 rows x 12 columns]"
            ]
          },
          "metadata": {
            "tags": []
          },
          "execution_count": 13
        }
      ]
    },
    {
      "cell_type": "markdown",
      "metadata": {
        "id": "NcLiooB3ga0U"
      },
      "source": [
        "Again, it looks like there are no data errors; just some passengers who got a free ride for whatever reason (visit Encyclopedia Titanica if you're interested to find out why).\n",
        "\n",
        "Next, we will check for missing values."
      ]
    },
    {
      "cell_type": "code",
      "metadata": {
        "colab": {
          "base_uri": "https://localhost:8080/"
        },
        "id": "ArTYsagcga0U",
        "outputId": "a0773c51-41e9-45ce-8298-6d36f768f4a1"
      },
      "source": [
        "# Number of missing values in each column in train data\n",
        "train_data.isnull().sum()"
      ],
      "execution_count": null,
      "outputs": [
        {
          "output_type": "execute_result",
          "data": {
            "text/plain": [
              "PassengerId      0\n",
              "Survived         0\n",
              "Pclass           0\n",
              "Name             0\n",
              "Sex              0\n",
              "Age            177\n",
              "SibSp            0\n",
              "Parch            0\n",
              "Ticket           0\n",
              "Fare             0\n",
              "Cabin          687\n",
              "Embarked         2\n",
              "dtype: int64"
            ]
          },
          "metadata": {
            "tags": []
          },
          "execution_count": 14
        }
      ]
    },
    {
      "cell_type": "code",
      "metadata": {
        "colab": {
          "base_uri": "https://localhost:8080/"
        },
        "id": "GnWXSqAUga0V",
        "outputId": "43669b23-7ec4-46d1-fac7-d76135a7d073"
      },
      "source": [
        "# Number of missing values in each column in test data\n",
        "test_data.isnull().sum()"
      ],
      "execution_count": null,
      "outputs": [
        {
          "output_type": "execute_result",
          "data": {
            "text/plain": [
              "PassengerId      0\n",
              "Pclass           0\n",
              "Name             0\n",
              "Sex              0\n",
              "Age             86\n",
              "SibSp            0\n",
              "Parch            0\n",
              "Ticket           0\n",
              "Fare             1\n",
              "Cabin          327\n",
              "Embarked         0\n",
              "dtype: int64"
            ]
          },
          "metadata": {
            "tags": []
          },
          "execution_count": 15
        }
      ]
    },
    {
      "cell_type": "markdown",
      "metadata": {
        "id": "LyDli-k1ga0V"
      },
      "source": [
        "First, let's deal with the missing 'Age' values. For that purpose, we will first extract title of each passenger from their name."
      ]
    },
    {
      "cell_type": "code",
      "metadata": {
        "id": "S_JkMK1cga0V"
      },
      "source": [
        "# Function to extract title from passenger's name\n",
        "def extract_title(df):\n",
        "    title = df['Name'].apply(lambda name: name.split(',')[1].split('.')[0].strip())\n",
        "    return title"
      ],
      "execution_count": null,
      "outputs": []
    },
    {
      "cell_type": "code",
      "metadata": {
        "colab": {
          "base_uri": "https://localhost:8080/"
        },
        "id": "y48WfZ1Uga0V",
        "outputId": "7dcd436b-9984-4396-ebfb-9f0a3adb6990"
      },
      "source": [
        "# Count of each title in train data\n",
        "train_data['Title'] = extract_title(train_data)\n",
        "train_data['Title'].value_counts()"
      ],
      "execution_count": null,
      "outputs": [
        {
          "output_type": "execute_result",
          "data": {
            "text/plain": [
              "Mr              517\n",
              "Miss            182\n",
              "Mrs             125\n",
              "Master           40\n",
              "Dr                7\n",
              "Rev               6\n",
              "Col               2\n",
              "Major             2\n",
              "Mlle              2\n",
              "Lady              1\n",
              "Jonkheer          1\n",
              "Capt              1\n",
              "the Countess      1\n",
              "Ms                1\n",
              "Sir               1\n",
              "Mme               1\n",
              "Don               1\n",
              "Name: Title, dtype: int64"
            ]
          },
          "metadata": {
            "tags": []
          },
          "execution_count": 17
        }
      ]
    },
    {
      "cell_type": "code",
      "metadata": {
        "colab": {
          "base_uri": "https://localhost:8080/"
        },
        "id": "KnSM96tdga0W",
        "outputId": "f3caeb45-e6e7-445e-f2ac-835662119fcb"
      },
      "source": [
        "# Count of each title in test data\n",
        "test_data['Title'] = extract_title(test_data)\n",
        "test_data['Title'].value_counts()"
      ],
      "execution_count": null,
      "outputs": [
        {
          "output_type": "execute_result",
          "data": {
            "text/plain": [
              "Mr        240\n",
              "Miss       78\n",
              "Mrs        72\n",
              "Master     21\n",
              "Rev         2\n",
              "Col         2\n",
              "Dona        1\n",
              "Ms          1\n",
              "Dr          1\n",
              "Name: Title, dtype: int64"
            ]
          },
          "metadata": {
            "tags": []
          },
          "execution_count": 18
        }
      ]
    },
    {
      "cell_type": "markdown",
      "metadata": {
        "id": "gxoXssAdga0W"
      },
      "source": [
        "Since there are many titles with very few counts, we will map them to main categories (titles that are more frequently occurring)."
      ]
    },
    {
      "cell_type": "code",
      "metadata": {
        "id": "pOQxian_ga0X"
      },
      "source": [
        "# Function to map titles to main categories\n",
        "def map_title(df):\n",
        "    title_category = {\n",
        "    \"Capt\": \"Officer\",\n",
        "    \"Col\": \"Officer\",\n",
        "    \"Major\": \"Officer\",\n",
        "    \"Jonkheer\": \"Royalty\",\n",
        "    \"Don\": \"Royalty\",\n",
        "    \"Sir\": \"Royalty\",\n",
        "    \"Dr\": \"Officer\",\n",
        "    \"Rev\": \"Officer\",\n",
        "    \"the Countess\": \"Royalty\",\n",
        "    \"Dona\": \"Royalty\",\n",
        "    \"Mme\": \"Mrs\",\n",
        "    \"Mlle\": \"Miss\",\n",
        "    \"Ms\": \"Mrs\",\n",
        "    \"Mr\": \"Mr\",\n",
        "    \"Mrs\": \"Mrs\",\n",
        "    \"Miss\": \"Miss\",\n",
        "    \"Master\": \"Master\",\n",
        "    \"Lady\": \"Royalty\"\n",
        "    }\n",
        "    new_title = df['Title'].map(title_category)\n",
        "    return new_title"
      ],
      "execution_count": null,
      "outputs": []
    },
    {
      "cell_type": "code",
      "metadata": {
        "colab": {
          "base_uri": "https://localhost:8080/"
        },
        "id": "fI2C96Itga0X",
        "outputId": "f99b474a-d19f-41b6-825a-65ccfc2780b4"
      },
      "source": [
        "# Count of each title in train data after mapping\n",
        "train_data['Title'] = map_title(train_data)\n",
        "train_data['Title'].value_counts()"
      ],
      "execution_count": null,
      "outputs": [
        {
          "output_type": "execute_result",
          "data": {
            "text/plain": [
              "Mr         517\n",
              "Miss       184\n",
              "Mrs        127\n",
              "Master      40\n",
              "Officer     18\n",
              "Royalty      5\n",
              "Name: Title, dtype: int64"
            ]
          },
          "metadata": {
            "tags": []
          },
          "execution_count": 20
        }
      ]
    },
    {
      "cell_type": "code",
      "metadata": {
        "colab": {
          "base_uri": "https://localhost:8080/"
        },
        "id": "-dvl4JJTga0X",
        "outputId": "9c82b077-bde3-4d04-d260-2ba05c244ef3"
      },
      "source": [
        "# Count of each title in test data after mapping\n",
        "test_data['Title'] = map_title(test_data)\n",
        "test_data['Title'].value_counts()"
      ],
      "execution_count": null,
      "outputs": [
        {
          "output_type": "execute_result",
          "data": {
            "text/plain": [
              "Mr         240\n",
              "Miss        78\n",
              "Mrs         73\n",
              "Master      21\n",
              "Officer      5\n",
              "Royalty      1\n",
              "Name: Title, dtype: int64"
            ]
          },
          "metadata": {
            "tags": []
          },
          "execution_count": 21
        }
      ]
    },
    {
      "cell_type": "markdown",
      "metadata": {
        "id": "FFYlx8Juga0X"
      },
      "source": [
        "Now that we have extracted titles from names, we can group data by title and impute missing age values using the median age of each category. We will also group by 'Pclass' as it will help in accurately calculating the median age within each class.<br>\n",
        "Note: We are using median value instead of mean because extreme values (or outliers) have a lot more impact on mean than median."
      ]
    },
    {
      "cell_type": "code",
      "metadata": {
        "colab": {
          "base_uri": "https://localhost:8080/"
        },
        "id": "nXnV7tyGga0Y",
        "outputId": "62dd0658-1525-4d46-dd26-91a3e7fb2bc3"
      },
      "source": [
        "# Group train data by 'Pclass', 'Title' and calculate the median age\n",
        "train_data.groupby(['Pclass', 'Title']).median()['Age']"
      ],
      "execution_count": null,
      "outputs": [
        {
          "output_type": "execute_result",
          "data": {
            "text/plain": [
              "Pclass  Title  \n",
              "1       Master      4.0\n",
              "        Miss       30.0\n",
              "        Mr         40.0\n",
              "        Mrs        40.0\n",
              "        Officer    50.0\n",
              "        Royalty    40.0\n",
              "2       Master      1.0\n",
              "        Miss       24.0\n",
              "        Mr         31.0\n",
              "        Mrs        31.5\n",
              "        Officer    46.5\n",
              "3       Master      4.0\n",
              "        Miss       18.0\n",
              "        Mr         26.0\n",
              "        Mrs        31.0\n",
              "Name: Age, dtype: float64"
            ]
          },
          "metadata": {
            "tags": []
          },
          "execution_count": 22
        }
      ]
    },
    {
      "cell_type": "markdown",
      "metadata": {
        "id": "41p-ETtwga0Y"
      },
      "source": [
        "One thing to note here is that unlike the 'Master' title, there is no separate category for young female passengers. If we go back and look at the original dataset, we will realize that the 'Miss' title includes both young and adult females. We can somewhat solve this by identifying passengers with 'Miss' title having 1 or 2 value in the 'Parch' column. This way we can retrieve passengers who are most likely, young females (there's also a small chance that the retrieved passenger is a female adult because the 'Parch' column not only reveals the number of parents but also the number of children)."
      ]
    },
    {
      "cell_type": "code",
      "metadata": {
        "id": "m_fLA1kuga0Y"
      },
      "source": [
        "# Function to identify passengers who have the title 'Miss' and, 1 or 2 value in the 'Parch' column\n",
        "def is_young(df):\n",
        "    young = []\n",
        "    for index, value in df['Parch'].items():\n",
        "        if ((df.loc[index, 'Title'] == 'Miss') and (value == 1 or value == 2)):\n",
        "            young.append(1)\n",
        "        else:\n",
        "            young.append(0)\n",
        "    return young"
      ],
      "execution_count": null,
      "outputs": []
    },
    {
      "cell_type": "code",
      "metadata": {
        "colab": {
          "base_uri": "https://localhost:8080/"
        },
        "id": "BELzHM_Rga0Y",
        "outputId": "62bdf84e-6b68-42c7-a5ff-fb5a64b09bc1"
      },
      "source": [
        "# Group train data by 'Pclass', 'Title', 'Is_Young(Miss)' and calculate the median age\n",
        "train_data['Is_Young(Miss)'] = is_young(train_data)\n",
        "grouped_age = train_data.groupby(['Pclass', 'Title', 'Is_Young(Miss)']).median()['Age']\n",
        "grouped_age"
      ],
      "execution_count": null,
      "outputs": [
        {
          "output_type": "execute_result",
          "data": {
            "text/plain": [
              "Pclass  Title    Is_Young(Miss)\n",
              "1       Master   0                  4.0\n",
              "        Miss     0                 31.0\n",
              "                 1                 20.0\n",
              "        Mr       0                 40.0\n",
              "        Mrs      0                 40.0\n",
              "        Officer  0                 50.0\n",
              "        Royalty  0                 40.0\n",
              "2       Master   0                  1.0\n",
              "        Miss     0                 30.0\n",
              "                 1                  7.0\n",
              "        Mr       0                 31.0\n",
              "        Mrs      0                 31.5\n",
              "        Officer  0                 46.5\n",
              "3       Master   0                  4.0\n",
              "        Miss     0                 21.0\n",
              "                 1                  5.0\n",
              "        Mr       0                 26.0\n",
              "        Mrs      0                 31.0\n",
              "Name: Age, dtype: float64"
            ]
          },
          "metadata": {
            "tags": []
          },
          "execution_count": 24
        }
      ]
    },
    {
      "cell_type": "markdown",
      "metadata": {
        "id": "FYb__xG_ga0Y"
      },
      "source": [
        "This looks better as we can now guess the missing age values more accurately than before. We will apply this function to the test data as well."
      ]
    },
    {
      "cell_type": "code",
      "metadata": {
        "id": "69KtOLpBga0Z"
      },
      "source": [
        "test_data['Is_Young(Miss)'] = is_young(test_data)"
      ],
      "execution_count": null,
      "outputs": []
    },
    {
      "cell_type": "markdown",
      "metadata": {
        "id": "WWh5-Wlpga0Z"
      },
      "source": [
        "Next, we will impute the missing age values according to the grouped data shown above."
      ]
    },
    {
      "cell_type": "code",
      "metadata": {
        "id": "xWDWSltvga0Z"
      },
      "source": [
        "# Fill missing age values in train and test data\n",
        "train_data.set_index(['Pclass', 'Title', 'Is_Young(Miss)'], drop=False, inplace=True)\n",
        "train_data['Age'].fillna(grouped_age, inplace=True)\n",
        "train_data.reset_index(drop=True, inplace=True)\n",
        "test_data.set_index(['Pclass', 'Title', 'Is_Young(Miss)'], drop=False, inplace=True)\n",
        "test_data['Age'].fillna(grouped_age, inplace=True)\n",
        "test_data.reset_index(drop=True, inplace=True)"
      ],
      "execution_count": null,
      "outputs": []
    },
    {
      "cell_type": "markdown",
      "metadata": {
        "id": "IVGQcjeEga0Z"
      },
      "source": [
        "A very important thing that needs to be addressed is that I've only used the train data to calculate the median ages for replacing missing values in both train and test datasets. Many people, especially those participating in data science competitions, use test data as well for preprocessing purposes. This may help people improve their model's test accuracy and rank higher in competitions, but it is considered a major mistake in real world applications (known as **data leakage**). Models built using this approach do not generalize too well to the new/unseen data and give results that are a lot poorer than expected. Hence, test data should never be used for data preprocessing and should only be used for testing purposes.\n",
        "\n",
        "For replacing the missing 'Fare' value in test data, we will simply group the train data by 'Pclass' and repeat the same steps as above."
      ]
    },
    {
      "cell_type": "code",
      "metadata": {
        "colab": {
          "base_uri": "https://localhost:8080/"
        },
        "id": "wA6xytadga0Z",
        "outputId": "8a21c2d8-d91c-4e51-ba17-b023818d6374"
      },
      "source": [
        "# Group train data by 'Pclass' and calculate the median fare\n",
        "grouped_fare = train_data.groupby('Pclass').median()['Fare']\n",
        "grouped_fare"
      ],
      "execution_count": null,
      "outputs": [
        {
          "output_type": "execute_result",
          "data": {
            "text/plain": [
              "Pclass\n",
              "1    60.2875\n",
              "2    14.2500\n",
              "3     8.0500\n",
              "Name: Fare, dtype: float64"
            ]
          },
          "metadata": {
            "tags": []
          },
          "execution_count": 27
        }
      ]
    },
    {
      "cell_type": "code",
      "metadata": {
        "id": "qvAJEFxIga0a"
      },
      "source": [
        "# Fill the missing fare value in test data\n",
        "test_data.set_index('Pclass', drop=False, inplace=True)\n",
        "test_data['Fare'].fillna(grouped_fare, inplace=True)\n",
        "test_data.reset_index(drop=True, inplace=True)"
      ],
      "execution_count": null,
      "outputs": []
    },
    {
      "cell_type": "markdown",
      "metadata": {
        "id": "8BLlFnBaga0a"
      },
      "source": [
        "Finally, we will drop all of the unnecessary rows and columns:\n",
        "* Name: We've extracted the information that we needed (i.e. Title) and don't need this column anymore\n",
        "* Cabin: Majority of the values are missing so we will drop the entire column\n",
        "* Embarked: Only 2 values are missing in train data so we can just remove those 2 entire rows\n",
        "* Ticket: Doesn't seem to provide any useful information so we will drop the entire column\n",
        "* Is_Young(Miss): Purpose of creating this column has been fulfilled and we don't need it anymore"
      ]
    },
    {
      "cell_type": "code",
      "metadata": {
        "id": "K9AX4Vaega0a"
      },
      "source": [
        "# Drop unnecessary rows and columns\n",
        "train_data.drop(columns=['Name', 'Cabin', 'Ticket', 'Is_Young(Miss)'], inplace=True)\n",
        "test_data.drop(columns=['Name', 'Cabin', 'Ticket', 'Is_Young(Miss)'], inplace=True)\n",
        "train_data.dropna(subset=['Embarked'], inplace=True)"
      ],
      "execution_count": null,
      "outputs": []
    },
    {
      "cell_type": "markdown",
      "metadata": {
        "id": "FxzJmC8Cga0a"
      },
      "source": [
        "It is always good to verify that there are no remaining missing values."
      ]
    },
    {
      "cell_type": "code",
      "metadata": {
        "colab": {
          "base_uri": "https://localhost:8080/"
        },
        "id": "XYEl-G15ga0b",
        "scrolled": true,
        "outputId": "ca9a79ed-efc8-4160-8050-a13245e3d356"
      },
      "source": [
        "# Missing values in train data after data cleaning\n",
        "train_data.isnull().sum()"
      ],
      "execution_count": null,
      "outputs": [
        {
          "output_type": "execute_result",
          "data": {
            "text/plain": [
              "PassengerId    0\n",
              "Survived       0\n",
              "Pclass         0\n",
              "Sex            0\n",
              "Age            0\n",
              "SibSp          0\n",
              "Parch          0\n",
              "Fare           0\n",
              "Embarked       0\n",
              "Title          0\n",
              "dtype: int64"
            ]
          },
          "metadata": {
            "tags": []
          },
          "execution_count": 30
        }
      ]
    },
    {
      "cell_type": "code",
      "metadata": {
        "colab": {
          "base_uri": "https://localhost:8080/"
        },
        "id": "lsHdfsFUga0b",
        "scrolled": true,
        "outputId": "96354501-3854-46eb-cc70-e83d52b3fd5a"
      },
      "source": [
        "# Missing values in test data after data cleaning\n",
        "test_data.isnull().sum()"
      ],
      "execution_count": null,
      "outputs": [
        {
          "output_type": "execute_result",
          "data": {
            "text/plain": [
              "PassengerId    0\n",
              "Pclass         0\n",
              "Sex            0\n",
              "Age            0\n",
              "SibSp          0\n",
              "Parch          0\n",
              "Fare           0\n",
              "Embarked       0\n",
              "Title          0\n",
              "dtype: int64"
            ]
          },
          "metadata": {
            "tags": []
          },
          "execution_count": 31
        }
      ]
    },
    {
      "cell_type": "markdown",
      "metadata": {
        "id": "YIwCrttXga0b"
      },
      "source": [
        "## 4. Exploratory Data Analysis <a id=\"heading4\"></a>"
      ]
    },
    {
      "cell_type": "markdown",
      "metadata": {
        "id": "0GOIOdhnga0b"
      },
      "source": [
        "In this section, we will try to find some interesting insights using visual methods.\n",
        "\n",
        "First, we will look at the class distribtuion."
      ]
    },
    {
      "cell_type": "code",
      "metadata": {
        "colab": {
          "base_uri": "https://localhost:8080/",
          "height": 350
        },
        "id": "nsSZanZKga0b",
        "outputId": "6272fca3-8629-46e9-c237-4b8fab800c02"
      },
      "source": [
        "plt.subplots(figsize=(7, 5))\n",
        "sns.countplot(x='Survived', data=train_data)\n",
        "plt.title('Class Distribution')\n",
        "plt.show()"
      ],
      "execution_count": null,
      "outputs": [
        {
          "output_type": "display_data",
          "data": {
            "image/png": "[encoded data removed]",
            "text/plain": [
              "<Figure size 504x360 with 1 Axes>"
            ]
          },
          "metadata": {
            "tags": []
          }
        }
      ]
    },
    {
      "cell_type": "markdown",
      "metadata": {
        "id": "rf_A_LTNga0c"
      },
      "source": [
        "We can clearly see that the classes are slightly imbalanced since majority of the passengers did not survive. In scenarios like this, the same ratio is expected in test data so we don't need to worry about the imbalanced classes.\n",
        "\n",
        "Next, let's find out the ratio of survivors with respect to other variables (i.e. 'Sex', 'Pclass', 'Embarked', 'Title')."
      ]
    },
    {
      "cell_type": "code",
      "metadata": {
        "colab": {
          "base_uri": "https://localhost:8080/",
          "height": 350
        },
        "id": "Oy289B47ga0c",
        "outputId": "5bd4f1b7-dcd2-47b7-e516-13fdcdd3cada"
      },
      "source": [
        "plt.subplots(figsize=(7, 5))\n",
        "sns.barplot(x='Sex', y='Survived', data=train_data, ci=None)\n",
        "plt.title('Ratio of survivors based on sex')\n",
        "plt.show()"
      ],
      "execution_count": null,
      "outputs": [
        {
          "output_type": "display_data",
          "data": {
            "image/png": "[encoded data removed]",
            "text/plain": [
              "<Figure size 504x360 with 1 Axes>"
            ]
          },
          "metadata": {
            "tags": []
          }
        }
      ]
    },
    {
      "cell_type": "code",
      "metadata": {
        "colab": {
          "base_uri": "https://localhost:8080/",
          "height": 350
        },
        "id": "YVSIwVmJga0c",
        "outputId": "ccf83fbc-7551-4500-83dc-bfb2e500d3d8"
      },
      "source": [
        "plt.subplots(figsize=(7, 5))\n",
        "sns.barplot(x='Pclass', y='Survived', data=train_data, ci=None)\n",
        "plt.title('Ratio of survivors based on ticket class')\n",
        "plt.show()"
      ],
      "execution_count": null,
      "outputs": [
        {
          "output_type": "display_data",
          "data": {
            "image/png": "[encoded data removed]",
            "text/plain": [
              "<Figure size 504x360 with 1 Axes>"
            ]
          },
          "metadata": {
            "tags": []
          }
        }
      ]
    },
    {
      "cell_type": "code",
      "metadata": {
        "colab": {
          "base_uri": "https://localhost:8080/",
          "height": 350
        },
        "id": "83kgXbKXga0c",
        "outputId": "08d88803-69d4-4608-a1af-d6a5200ee3cc"
      },
      "source": [
        "plt.subplots(figsize=(7, 5))\n",
        "sns.barplot(x='Embarked', y='Survived', data=train_data, ci=None)\n",
        "plt.title('Ratio of survivors based on port of embarkation')\n",
        "plt.show()"
      ],
      "execution_count": null,
      "outputs": [
        {
          "output_type": "display_data",
          "data": {
            "image/png": "[encoded data removed]",
            "text/plain": [
              "<Figure size 504x360 with 1 Axes>"
            ]
          },
          "metadata": {
            "tags": []
          }
        }
      ]
    },
    {
      "cell_type": "code",
      "metadata": {
        "colab": {
          "base_uri": "https://localhost:8080/",
          "height": 350
        },
        "id": "nFzfy8kuga0c",
        "outputId": "71708b5f-f173-48e4-d76c-8e07ce93ddfa"
      },
      "source": [
        "plt.subplots(figsize=(7, 5))\n",
        "sns.barplot(x='Title', y='Survived', data=train_data, ci=None)\n",
        "plt.title('Ratio of survivors based on title')\n",
        "plt.show()"
      ],
      "execution_count": null,
      "outputs": [
        {
          "output_type": "display_data",
          "data": {
            "image/png": "[encoded data removed]",
            "text/plain": [
              "<Figure size 504x360 with 1 Axes>"
            ]
          },
          "metadata": {
            "tags": []
          }
        }
      ]
    },
    {
      "cell_type": "markdown",
      "metadata": {
        "id": "VOZKeY1Gga0d"
      },
      "source": [
        "Based on these visualizations, we can conclude the following:\n",
        "* Females had a way higher survival rate than males\n",
        "* Lower ticket class (with 3 being the lowest) means less chance of survival\n",
        "* Passengers who embarked from port 'C' had slightly more chances of survival\n",
        "* Passengers with the title 'Mr' and 'Officer' had really low chances of survival as compared to other passengers\n",
        "\n",
        "Note: The accuracy of these findings also depends on other factors such as the frequency distribution within each categorical variable. For example, if there is only 1 female in the entire dataset and she survived, then the survival rate of females will be 100% which cannot be considered a concrete finding. Hence, depending on the type of problem being solved, further data analysis should be done if required.\n",
        "\n",
        "Next, we will compute the pairwise correlation of different variables, focusing mainly on how different features correlate with the target variable 'Survived'. But first, we need to convert all of the categorical variables into numeric data type.\n",
        "\n",
        "To convert 'Sex' variable into numeric format, we will simply encode male with 1 and female with 0."
      ]
    },
    {
      "cell_type": "code",
      "metadata": {
        "id": "rYi-Uyydga0d"
      },
      "source": [
        "# Encode 'Sex' variable values\n",
        "le = LabelEncoder()\n",
        "train_data['Sex'] = le.fit_transform(train_data['Sex'])\n",
        "test_data['Sex'] = le.transform(test_data['Sex'])"
      ],
      "execution_count": null,
      "outputs": []
    },
    {
      "cell_type": "markdown",
      "metadata": {
        "id": "b8KuuFUlga0d"
      },
      "source": [
        "For 'Embarked' and 'Title' variables, we will use dummy variables to represent different values."
      ]
    },
    {
      "cell_type": "code",
      "metadata": {
        "id": "Ipp6S1XXga0d"
      },
      "source": [
        "# Convert 'Embarked' and 'Title' into dummy variables\n",
        "train_data = pd.get_dummies(train_data, columns=['Embarked', 'Title'])\n",
        "test_data = pd.get_dummies(test_data, columns=['Embarked', 'Title'])"
      ],
      "execution_count": null,
      "outputs": []
    },
    {
      "cell_type": "markdown",
      "metadata": {
        "id": "kzVecKsVga0d"
      },
      "source": [
        "This is how the dataset looks like after conversion:"
      ]
    },
    {
      "cell_type": "code",
      "metadata": {
        "colab": {
          "base_uri": "https://localhost:8080/",
          "height": 224
        },
        "id": "gFfVOiOEga0d",
        "outputId": "d0f27874-d456-497d-c60c-dae83f46362a"
      },
      "source": [
        "train_data.head()"
      ],
      "execution_count": null,
      "outputs": [
        {
          "output_type": "execute_result",
          "data": {
            "text/html": [
              "<div>\n",
              "<style scoped>\n",
              "    .dataframe tbody tr th:only-of-type {\n",
              "        vertical-align: middle;\n",
              "    }\n",
              "\n",
              "    .dataframe tbody tr th {\n",
              "        vertical-align: top;\n",
              "    }\n",
              "\n",
              "    .dataframe thead th {\n",
              "        text-align: right;\n",
              "    }\n",
              "</style>\n",
              "<table border=\"1\" class=\"dataframe\">\n",
              "  <thead>\n",
              "    <tr style=\"text-align: right;\">\n",
              "      <th></th>\n",
              "      <th>PassengerId</th>\n",
              "      <th>Survived</th>\n",
              "      <th>Pclass</th>\n",
              "      <th>Sex</th>\n",
              "      <th>Age</th>\n",
              "      <th>SibSp</th>\n",
              "      <th>Parch</th>\n",
              "      <th>Fare</th>\n",
              "      <th>Embarked_C</th>\n",
              "      <th>Embarked_Q</th>\n",
              "      <th>Embarked_S</th>\n",
              "      <th>Title_Master</th>\n",
              "      <th>Title_Miss</th>\n",
              "      <th>Title_Mr</th>\n",
              "      <th>Title_Mrs</th>\n",
              "      <th>Title_Officer</th>\n",
              "      <th>Title_Royalty</th>\n",
              "    </tr>\n",
              "  </thead>\n",
              "  <tbody>\n",
              "    <tr>\n",
              "      <th>0</th>\n",
              "      <td>1</td>\n",
              "      <td>0</td>\n",
              "      <td>3</td>\n",
              "      <td>1</td>\n",
              "      <td>22.0</td>\n",
              "      <td>1</td>\n",
              "      <td>0</td>\n",
              "      <td>7.2500</td>\n",
              "      <td>0</td>\n",
              "      <td>0</td>\n",
              "      <td>1</td>\n",
              "      <td>0</td>\n",
              "      <td>0</td>\n",
              "      <td>1</td>\n",
              "      <td>0</td>\n",
              "      <td>0</td>\n",
              "      <td>0</td>\n",
              "    </tr>\n",
              "    <tr>\n",
              "      <th>1</th>\n",
              "      <td>2</td>\n",
              "      <td>1</td>\n",
              "      <td>1</td>\n",
              "      <td>0</td>\n",
              "      <td>38.0</td>\n",
              "      <td>1</td>\n",
              "      <td>0</td>\n",
              "      <td>71.2833</td>\n",
              "      <td>1</td>\n",
              "      <td>0</td>\n",
              "      <td>0</td>\n",
              "      <td>0</td>\n",
              "      <td>0</td>\n",
              "      <td>0</td>\n",
              "      <td>1</td>\n",
              "      <td>0</td>\n",
              "      <td>0</td>\n",
              "    </tr>\n",
              "    <tr>\n",
              "      <th>2</th>\n",
              "      <td>3</td>\n",
              "      <td>1</td>\n",
              "      <td>3</td>\n",
              "      <td>0</td>\n",
              "      <td>26.0</td>\n",
              "      <td>0</td>\n",
              "      <td>0</td>\n",
              "      <td>7.9250</td>\n",
              "      <td>0</td>\n",
              "      <td>0</td>\n",
              "      <td>1</td>\n",
              "      <td>0</td>\n",
              "      <td>1</td>\n",
              "      <td>0</td>\n",
              "      <td>0</td>\n",
              "      <td>0</td>\n",
              "      <td>0</td>\n",
              "    </tr>\n",
              "    <tr>\n",
              "      <th>3</th>\n",
              "      <td>4</td>\n",
              "      <td>1</td>\n",
              "      <td>1</td>\n",
              "      <td>0</td>\n",
              "      <td>35.0</td>\n",
              "      <td>1</td>\n",
              "      <td>0</td>\n",
              "      <td>53.1000</td>\n",
              "      <td>0</td>\n",
              "      <td>0</td>\n",
              "      <td>1</td>\n",
              "      <td>0</td>\n",
              "      <td>0</td>\n",
              "      <td>0</td>\n",
              "      <td>1</td>\n",
              "      <td>0</td>\n",
              "      <td>0</td>\n",
              "    </tr>\n",
              "    <tr>\n",
              "      <th>4</th>\n",
              "      <td>5</td>\n",
              "      <td>0</td>\n",
              "      <td>3</td>\n",
              "      <td>1</td>\n",
              "      <td>35.0</td>\n",
              "      <td>0</td>\n",
              "      <td>0</td>\n",
              "      <td>8.0500</td>\n",
              "      <td>0</td>\n",
              "      <td>0</td>\n",
              "      <td>1</td>\n",
              "      <td>0</td>\n",
              "      <td>0</td>\n",
              "      <td>1</td>\n",
              "      <td>0</td>\n",
              "      <td>0</td>\n",
              "      <td>0</td>\n",
              "    </tr>\n",
              "  </tbody>\n",
              "</table>\n",
              "</div>"
            ],
            "text/plain": [
              "   PassengerId  Survived  Pclass  ...  Title_Mrs  Title_Officer  Title_Royalty\n",
              "0            1         0       3  ...          0              0              0\n",
              "1            2         1       1  ...          1              0              0\n",
              "2            3         1       3  ...          0              0              0\n",
              "3            4         1       1  ...          1              0              0\n",
              "4            5         0       3  ...          0              0              0\n",
              "\n",
              "[5 rows x 17 columns]"
            ]
          },
          "metadata": {
            "tags": []
          },
          "execution_count": 39
        }
      ]
    },
    {
      "cell_type": "markdown",
      "metadata": {
        "id": "izSxL1a1ga0e"
      },
      "source": [
        "Finally, we can calculate the correlation."
      ]
    },
    {
      "cell_type": "code",
      "metadata": {
        "colab": {
          "base_uri": "https://localhost:8080/",
          "height": 596
        },
        "id": "H7fYraKEga0e",
        "outputId": "2907ef68-21c7-45fd-c2f0-1c61634e5039"
      },
      "source": [
        "# Pairwise correlation of columns\n",
        "corr = train_data.corr()\n",
        "corr"
      ],
      "execution_count": null,
      "outputs": [
        {
          "output_type": "execute_result",
          "data": {
            "text/html": [
              "<div>\n",
              "<style scoped>\n",
              "    .dataframe tbody tr th:only-of-type {\n",
              "        vertical-align: middle;\n",
              "    }\n",
              "\n",
              "    .dataframe tbody tr th {\n",
              "        vertical-align: top;\n",
              "    }\n",
              "\n",
              "    .dataframe thead th {\n",
              "        text-align: right;\n",
              "    }\n",
              "</style>\n",
              "<table border=\"1\" class=\"dataframe\">\n",
              "  <thead>\n",
              "    <tr style=\"text-align: right;\">\n",
              "      <th></th>\n",
              "      <th>PassengerId</th>\n",
              "      <th>Survived</th>\n",
              "      <th>Pclass</th>\n",
              "      <th>Sex</th>\n",
              "      <th>Age</th>\n",
              "      <th>SibSp</th>\n",
              "      <th>Parch</th>\n",
              "      <th>Fare</th>\n",
              "      <th>Embarked_C</th>\n",
              "      <th>Embarked_Q</th>\n",
              "      <th>Embarked_S</th>\n",
              "      <th>Title_Master</th>\n",
              "      <th>Title_Miss</th>\n",
              "      <th>Title_Mr</th>\n",
              "      <th>Title_Mrs</th>\n",
              "      <th>Title_Officer</th>\n",
              "      <th>Title_Royalty</th>\n",
              "    </tr>\n",
              "  </thead>\n",
              "  <tbody>\n",
              "    <tr>\n",
              "      <th>PassengerId</th>\n",
              "      <td>1.000000</td>\n",
              "      <td>-0.005028</td>\n",
              "      <td>-0.035330</td>\n",
              "      <td>0.043136</td>\n",
              "      <td>0.035304</td>\n",
              "      <td>-0.057686</td>\n",
              "      <td>-0.001657</td>\n",
              "      <td>0.012703</td>\n",
              "      <td>-0.001208</td>\n",
              "      <td>-0.033694</td>\n",
              "      <td>0.022269</td>\n",
              "      <td>-0.026218</td>\n",
              "      <td>-0.064014</td>\n",
              "      <td>0.039008</td>\n",
              "      <td>0.005437</td>\n",
              "      <td>0.055440</td>\n",
              "      <td>0.031681</td>\n",
              "    </tr>\n",
              "    <tr>\n",
              "      <th>Survived</th>\n",
              "      <td>-0.005028</td>\n",
              "      <td>1.000000</td>\n",
              "      <td>-0.335549</td>\n",
              "      <td>-0.541585</td>\n",
              "      <td>-0.055756</td>\n",
              "      <td>-0.034040</td>\n",
              "      <td>0.083151</td>\n",
              "      <td>0.255290</td>\n",
              "      <td>0.169966</td>\n",
              "      <td>0.004536</td>\n",
              "      <td>-0.151777</td>\n",
              "      <td>0.085998</td>\n",
              "      <td>0.332094</td>\n",
              "      <td>-0.547689</td>\n",
              "      <td>0.343836</td>\n",
              "      <td>-0.030963</td>\n",
              "      <td>0.033666</td>\n",
              "    </tr>\n",
              "    <tr>\n",
              "      <th>Pclass</th>\n",
              "      <td>-0.035330</td>\n",
              "      <td>-0.335549</td>\n",
              "      <td>1.000000</td>\n",
              "      <td>0.127741</td>\n",
              "      <td>-0.412684</td>\n",
              "      <td>0.081656</td>\n",
              "      <td>0.016824</td>\n",
              "      <td>-0.548193</td>\n",
              "      <td>-0.245733</td>\n",
              "      <td>0.220558</td>\n",
              "      <td>0.076466</td>\n",
              "      <td>0.081547</td>\n",
              "      <td>-0.006737</td>\n",
              "      <td>0.139156</td>\n",
              "      <td>-0.151780</td>\n",
              "      <td>-0.149428</td>\n",
              "      <td>-0.118241</td>\n",
              "    </tr>\n",
              "    <tr>\n",
              "      <th>Sex</th>\n",
              "      <td>0.043136</td>\n",
              "      <td>-0.541585</td>\n",
              "      <td>0.127741</td>\n",
              "      <td>1.000000</td>\n",
              "      <td>0.111186</td>\n",
              "      <td>-0.116348</td>\n",
              "      <td>-0.247508</td>\n",
              "      <td>-0.179958</td>\n",
              "      <td>-0.084520</td>\n",
              "      <td>-0.075217</td>\n",
              "      <td>0.121405</td>\n",
              "      <td>0.159612</td>\n",
              "      <td>-0.692363</td>\n",
              "      <td>0.866888</td>\n",
              "      <td>-0.552629</td>\n",
              "      <td>0.088976</td>\n",
              "      <td>-0.007728</td>\n",
              "    </tr>\n",
              "    <tr>\n",
              "      <th>Age</th>\n",
              "      <td>0.035304</td>\n",
              "      <td>-0.055756</td>\n",
              "      <td>-0.412684</td>\n",
              "      <td>0.111186</td>\n",
              "      <td>1.000000</td>\n",
              "      <td>-0.299570</td>\n",
              "      <td>-0.199577</td>\n",
              "      <td>0.113625</td>\n",
              "      <td>0.049316</td>\n",
              "      <td>-0.086584</td>\n",
              "      <td>0.011295</td>\n",
              "      <td>-0.392649</td>\n",
              "      <td>-0.305175</td>\n",
              "      <td>0.215257</td>\n",
              "      <td>0.191443</td>\n",
              "      <td>0.189013</td>\n",
              "      <td>0.069560</td>\n",
              "    </tr>\n",
              "    <tr>\n",
              "      <th>SibSp</th>\n",
              "      <td>-0.057686</td>\n",
              "      <td>-0.034040</td>\n",
              "      <td>0.081656</td>\n",
              "      <td>-0.116348</td>\n",
              "      <td>-0.299570</td>\n",
              "      <td>1.000000</td>\n",
              "      <td>0.414542</td>\n",
              "      <td>0.160887</td>\n",
              "      <td>-0.060074</td>\n",
              "      <td>-0.026692</td>\n",
              "      <td>0.069438</td>\n",
              "      <td>0.349434</td>\n",
              "      <td>0.085939</td>\n",
              "      <td>-0.252201</td>\n",
              "      <td>0.061261</td>\n",
              "      <td>-0.024872</td>\n",
              "      <td>-0.008467</td>\n",
              "    </tr>\n",
              "    <tr>\n",
              "      <th>Parch</th>\n",
              "      <td>-0.001657</td>\n",
              "      <td>0.083151</td>\n",
              "      <td>0.016824</td>\n",
              "      <td>-0.247508</td>\n",
              "      <td>-0.199577</td>\n",
              "      <td>0.414542</td>\n",
              "      <td>1.000000</td>\n",
              "      <td>0.217532</td>\n",
              "      <td>-0.011588</td>\n",
              "      <td>-0.081585</td>\n",
              "      <td>0.061512</td>\n",
              "      <td>0.267194</td>\n",
              "      <td>0.103551</td>\n",
              "      <td>-0.335765</td>\n",
              "      <td>0.223240</td>\n",
              "      <td>-0.048377</td>\n",
              "      <td>-0.035673</td>\n",
              "    </tr>\n",
              "    <tr>\n",
              "      <th>Fare</th>\n",
              "      <td>0.012703</td>\n",
              "      <td>0.255290</td>\n",
              "      <td>-0.548193</td>\n",
              "      <td>-0.179958</td>\n",
              "      <td>0.113625</td>\n",
              "      <td>0.160887</td>\n",
              "      <td>0.217532</td>\n",
              "      <td>1.000000</td>\n",
              "      <td>0.270731</td>\n",
              "      <td>-0.116684</td>\n",
              "      <td>-0.163758</td>\n",
              "      <td>0.011390</td>\n",
              "      <td>0.119660</td>\n",
              "      <td>-0.181692</td>\n",
              "      <td>0.103920</td>\n",
              "      <td>0.010679</td>\n",
              "      <td>0.015222</td>\n",
              "    </tr>\n",
              "    <tr>\n",
              "      <th>Embarked_C</th>\n",
              "      <td>-0.001208</td>\n",
              "      <td>0.169966</td>\n",
              "      <td>-0.245733</td>\n",
              "      <td>-0.084520</td>\n",
              "      <td>0.049316</td>\n",
              "      <td>-0.060074</td>\n",
              "      <td>-0.011588</td>\n",
              "      <td>0.270731</td>\n",
              "      <td>1.000000</td>\n",
              "      <td>-0.148646</td>\n",
              "      <td>-0.782613</td>\n",
              "      <td>-0.035471</td>\n",
              "      <td>0.038498</td>\n",
              "      <td>-0.073976</td>\n",
              "      <td>0.067462</td>\n",
              "      <td>-0.008192</td>\n",
              "      <td>0.078960</td>\n",
              "    </tr>\n",
              "    <tr>\n",
              "      <th>Embarked_Q</th>\n",
              "      <td>-0.033694</td>\n",
              "      <td>0.004536</td>\n",
              "      <td>0.220558</td>\n",
              "      <td>-0.075217</td>\n",
              "      <td>-0.086584</td>\n",
              "      <td>-0.026692</td>\n",
              "      <td>-0.081585</td>\n",
              "      <td>-0.116684</td>\n",
              "      <td>-0.148646</td>\n",
              "      <td>1.000000</td>\n",
              "      <td>-0.499261</td>\n",
              "      <td>0.010330</td>\n",
              "      <td>0.169631</td>\n",
              "      <td>-0.079283</td>\n",
              "      <td>-0.090739</td>\n",
              "      <td>0.012520</td>\n",
              "      <td>-0.023159</td>\n",
              "    </tr>\n",
              "    <tr>\n",
              "      <th>Embarked_S</th>\n",
              "      <td>0.022269</td>\n",
              "      <td>-0.151777</td>\n",
              "      <td>0.076466</td>\n",
              "      <td>0.121405</td>\n",
              "      <td>0.011295</td>\n",
              "      <td>0.069438</td>\n",
              "      <td>0.061512</td>\n",
              "      <td>-0.163758</td>\n",
              "      <td>-0.782613</td>\n",
              "      <td>-0.499261</td>\n",
              "      <td>1.000000</td>\n",
              "      <td>0.024577</td>\n",
              "      <td>-0.140514</td>\n",
              "      <td>0.114726</td>\n",
              "      <td>-0.001989</td>\n",
              "      <td>-0.000704</td>\n",
              "      <td>-0.054604</td>\n",
              "    </tr>\n",
              "    <tr>\n",
              "      <th>Title_Master</th>\n",
              "      <td>-0.026218</td>\n",
              "      <td>0.085998</td>\n",
              "      <td>0.081547</td>\n",
              "      <td>0.159612</td>\n",
              "      <td>-0.392649</td>\n",
              "      <td>0.349434</td>\n",
              "      <td>0.267194</td>\n",
              "      <td>0.011390</td>\n",
              "      <td>-0.035471</td>\n",
              "      <td>0.010330</td>\n",
              "      <td>0.024577</td>\n",
              "      <td>1.000000</td>\n",
              "      <td>-0.110509</td>\n",
              "      <td>-0.255888</td>\n",
              "      <td>-0.088206</td>\n",
              "      <td>-0.031204</td>\n",
              "      <td>-0.016324</td>\n",
              "    </tr>\n",
              "    <tr>\n",
              "      <th>Title_Miss</th>\n",
              "      <td>-0.064014</td>\n",
              "      <td>0.332094</td>\n",
              "      <td>-0.006737</td>\n",
              "      <td>-0.692363</td>\n",
              "      <td>-0.305175</td>\n",
              "      <td>0.085939</td>\n",
              "      <td>0.103551</td>\n",
              "      <td>0.119660</td>\n",
              "      <td>0.038498</td>\n",
              "      <td>0.169631</td>\n",
              "      <td>-0.140514</td>\n",
              "      <td>-0.110509</td>\n",
              "      <td>1.000000</td>\n",
              "      <td>-0.600201</td>\n",
              "      <td>-0.206893</td>\n",
              "      <td>-0.073190</td>\n",
              "      <td>-0.038290</td>\n",
              "    </tr>\n",
              "    <tr>\n",
              "      <th>Title_Mr</th>\n",
              "      <td>0.039008</td>\n",
              "      <td>-0.547689</td>\n",
              "      <td>0.139156</td>\n",
              "      <td>0.866888</td>\n",
              "      <td>0.215257</td>\n",
              "      <td>-0.252201</td>\n",
              "      <td>-0.335765</td>\n",
              "      <td>-0.181692</td>\n",
              "      <td>-0.073976</td>\n",
              "      <td>-0.079283</td>\n",
              "      <td>0.114726</td>\n",
              "      <td>-0.255888</td>\n",
              "      <td>-0.600201</td>\n",
              "      <td>1.000000</td>\n",
              "      <td>-0.479068</td>\n",
              "      <td>-0.169473</td>\n",
              "      <td>-0.088661</td>\n",
              "    </tr>\n",
              "    <tr>\n",
              "      <th>Title_Mrs</th>\n",
              "      <td>0.005437</td>\n",
              "      <td>0.343836</td>\n",
              "      <td>-0.151780</td>\n",
              "      <td>-0.552629</td>\n",
              "      <td>0.191443</td>\n",
              "      <td>0.061261</td>\n",
              "      <td>0.223240</td>\n",
              "      <td>0.103920</td>\n",
              "      <td>0.067462</td>\n",
              "      <td>-0.090739</td>\n",
              "      <td>-0.001989</td>\n",
              "      <td>-0.088206</td>\n",
              "      <td>-0.206893</td>\n",
              "      <td>-0.479068</td>\n",
              "      <td>1.000000</td>\n",
              "      <td>-0.058418</td>\n",
              "      <td>-0.030562</td>\n",
              "    </tr>\n",
              "    <tr>\n",
              "      <th>Title_Officer</th>\n",
              "      <td>0.055440</td>\n",
              "      <td>-0.030963</td>\n",
              "      <td>-0.149428</td>\n",
              "      <td>0.088976</td>\n",
              "      <td>0.189013</td>\n",
              "      <td>-0.024872</td>\n",
              "      <td>-0.048377</td>\n",
              "      <td>0.010679</td>\n",
              "      <td>-0.008192</td>\n",
              "      <td>0.012520</td>\n",
              "      <td>-0.000704</td>\n",
              "      <td>-0.031204</td>\n",
              "      <td>-0.073190</td>\n",
              "      <td>-0.169473</td>\n",
              "      <td>-0.058418</td>\n",
              "      <td>1.000000</td>\n",
              "      <td>-0.010812</td>\n",
              "    </tr>\n",
              "    <tr>\n",
              "      <th>Title_Royalty</th>\n",
              "      <td>0.031681</td>\n",
              "      <td>0.033666</td>\n",
              "      <td>-0.118241</td>\n",
              "      <td>-0.007728</td>\n",
              "      <td>0.069560</td>\n",
              "      <td>-0.008467</td>\n",
              "      <td>-0.035673</td>\n",
              "      <td>0.015222</td>\n",
              "      <td>0.078960</td>\n",
              "      <td>-0.023159</td>\n",
              "      <td>-0.054604</td>\n",
              "      <td>-0.016324</td>\n",
              "      <td>-0.038290</td>\n",
              "      <td>-0.088661</td>\n",
              "      <td>-0.030562</td>\n",
              "      <td>-0.010812</td>\n",
              "      <td>1.000000</td>\n",
              "    </tr>\n",
              "  </tbody>\n",
              "</table>\n",
              "</div>"
            ],
            "text/plain": [
              "               PassengerId  Survived  ...  Title_Officer  Title_Royalty\n",
              "PassengerId       1.000000 -0.005028  ...       0.055440       0.031681\n",
              "Survived         -0.005028  1.000000  ...      -0.030963       0.033666\n",
              "Pclass           -0.035330 -0.335549  ...      -0.149428      -0.118241\n",
              "Sex               0.043136 -0.541585  ...       0.088976      -0.007728\n",
              "Age               0.035304 -0.055756  ...       0.189013       0.069560\n",
              "SibSp            -0.057686 -0.034040  ...      -0.024872      -0.008467\n",
              "Parch            -0.001657  0.083151  ...      -0.048377      -0.035673\n",
              "Fare              0.012703  0.255290  ...       0.010679       0.015222\n",
              "Embarked_C       -0.001208  0.169966  ...      -0.008192       0.078960\n",
              "Embarked_Q       -0.033694  0.004536  ...       0.012520      -0.023159\n",
              "Embarked_S        0.022269 -0.151777  ...      -0.000704      -0.054604\n",
              "Title_Master     -0.026218  0.085998  ...      -0.031204      -0.016324\n",
              "Title_Miss       -0.064014  0.332094  ...      -0.073190      -0.038290\n",
              "Title_Mr          0.039008 -0.547689  ...      -0.169473      -0.088661\n",
              "Title_Mrs         0.005437  0.343836  ...      -0.058418      -0.030562\n",
              "Title_Officer     0.055440 -0.030963  ...       1.000000      -0.010812\n",
              "Title_Royalty     0.031681  0.033666  ...      -0.010812       1.000000\n",
              "\n",
              "[17 rows x 17 columns]"
            ]
          },
          "metadata": {
            "tags": []
          },
          "execution_count": 40
        }
      ]
    },
    {
      "cell_type": "markdown",
      "metadata": {
        "id": "opcPpKvYga0e"
      },
      "source": [
        "Let's convert this into a visualization for better comprehension. "
      ]
    },
    {
      "cell_type": "code",
      "metadata": {
        "colab": {
          "base_uri": "https://localhost:8080/",
          "height": 536
        },
        "id": "PGzwSB7rga0e",
        "outputId": "986fc7eb-baaf-4030-9709-91ef9329b72b"
      },
      "source": [
        "# Generate a mask for the upper triangle\n",
        "mask = np.triu(np.ones_like(corr, dtype=np.bool))\n",
        "\n",
        "# Set up the matplotlib figure\n",
        "f, ax = plt.subplots(figsize=(10, 8))\n",
        "\n",
        "# Draw the heatmap with the mask\n",
        "sns.heatmap(corr, mask=mask, cmap='RdBu_r', linewidths=.5, cbar_kws={'shrink': .7})\n",
        "plt.show()"
      ],
      "execution_count": null,
      "outputs": [
        {
          "output_type": "display_data",
          "data": {
            "image/png": "[encoded data removed]",
            "text/plain": [
              "<Figure size 720x576 with 2 Axes>"
            ]
          },
          "metadata": {
            "tags": []
          }
        }
      ]
    },
    {
      "cell_type": "markdown",
      "metadata": {
        "id": "P12X6CJQga0e"
      },
      "source": [
        "If we just focus on the 'Survived' variable, we will notice that:\n",
        "* It has a comparatively strong negative correlation with 'Pclass', 'Sex' and 'Title_Mr'\n",
        "* It has a comparatively strong positive correlation with 'Fare', 'Embarked_C', 'Title_Miss' and 'Title_Mrs'"
      ]
    },
    {
      "cell_type": "markdown",
      "metadata": {
        "id": "Cy2D-PnAga0f"
      },
      "source": [
        "## 5. Model Building & Evaluation <a id=\"heading5\"></a>"
      ]
    },
    {
      "cell_type": "markdown",
      "metadata": {
        "id": "CPQjxqDega0f"
      },
      "source": [
        "Before we can start building the machine learning models, we need to apply feature scaling to standardize the independent variables within a particular range. This is required because some machine learning algorithms (such as kNN) tend to give more weightage to features with high magnitudes than features with low magnitudes, regardless of the unit of the values. To bring all features to the same level of magnitudes, we need to apply feature scaling.\n",
        "\n",
        "In this case, we will use the MinMaxScaler to scale each feature to a (0, 1) range."
      ]
    },
    {
      "cell_type": "code",
      "metadata": {
        "id": "Ka-VWrSrga0f"
      },
      "source": [
        "# Apply feature scaling using MinMaxScaler\n",
        "scaler = MinMaxScaler()\n",
        "train_data.iloc[:, 2:] = scaler.fit_transform(train_data.iloc[:, 2:])\n",
        "test_data.iloc[:, 1:] = scaler.transform(test_data.iloc[:, 1:])"
      ],
      "execution_count": null,
      "outputs": []
    },
    {
      "cell_type": "markdown",
      "metadata": {
        "id": "jDjpUCzxga0f"
      },
      "source": [
        "This is how the dataset looks like after feature scaling (remember, we only need to scale predictor variables):"
      ]
    },
    {
      "cell_type": "code",
      "metadata": {
        "colab": {
          "base_uri": "https://localhost:8080/",
          "height": 224
        },
        "id": "E96r3l7Mga0f",
        "outputId": "06bc9594-bde9-45e1-d100-49b59597712d"
      },
      "source": [
        "train_data.head()"
      ],
      "execution_count": null,
      "outputs": [
        {
          "output_type": "execute_result",
          "data": {
            "text/html": [
              "<div>\n",
              "<style scoped>\n",
              "    .dataframe tbody tr th:only-of-type {\n",
              "        vertical-align: middle;\n",
              "    }\n",
              "\n",
              "    .dataframe tbody tr th {\n",
              "        vertical-align: top;\n",
              "    }\n",
              "\n",
              "    .dataframe thead th {\n",
              "        text-align: right;\n",
              "    }\n",
              "</style>\n",
              "<table border=\"1\" class=\"dataframe\">\n",
              "  <thead>\n",
              "    <tr style=\"text-align: right;\">\n",
              "      <th></th>\n",
              "      <th>PassengerId</th>\n",
              "      <th>Survived</th>\n",
              "      <th>Pclass</th>\n",
              "      <th>Sex</th>\n",
              "      <th>Age</th>\n",
              "      <th>SibSp</th>\n",
              "      <th>Parch</th>\n",
              "      <th>Fare</th>\n",
              "      <th>Embarked_C</th>\n",
              "      <th>Embarked_Q</th>\n",
              "      <th>Embarked_S</th>\n",
              "      <th>Title_Master</th>\n",
              "      <th>Title_Miss</th>\n",
              "      <th>Title_Mr</th>\n",
              "      <th>Title_Mrs</th>\n",
              "      <th>Title_Officer</th>\n",
              "      <th>Title_Royalty</th>\n",
              "    </tr>\n",
              "  </thead>\n",
              "  <tbody>\n",
              "    <tr>\n",
              "      <th>0</th>\n",
              "      <td>1</td>\n",
              "      <td>0</td>\n",
              "      <td>1.0</td>\n",
              "      <td>1.0</td>\n",
              "      <td>0.271174</td>\n",
              "      <td>0.125</td>\n",
              "      <td>0.0</td>\n",
              "      <td>0.014151</td>\n",
              "      <td>0.0</td>\n",
              "      <td>0.0</td>\n",
              "      <td>1.0</td>\n",
              "      <td>0.0</td>\n",
              "      <td>0.0</td>\n",
              "      <td>1.0</td>\n",
              "      <td>0.0</td>\n",
              "      <td>0.0</td>\n",
              "      <td>0.0</td>\n",
              "    </tr>\n",
              "    <tr>\n",
              "      <th>1</th>\n",
              "      <td>2</td>\n",
              "      <td>1</td>\n",
              "      <td>0.0</td>\n",
              "      <td>0.0</td>\n",
              "      <td>0.472229</td>\n",
              "      <td>0.125</td>\n",
              "      <td>0.0</td>\n",
              "      <td>0.139136</td>\n",
              "      <td>1.0</td>\n",
              "      <td>0.0</td>\n",
              "      <td>0.0</td>\n",
              "      <td>0.0</td>\n",
              "      <td>0.0</td>\n",
              "      <td>0.0</td>\n",
              "      <td>1.0</td>\n",
              "      <td>0.0</td>\n",
              "      <td>0.0</td>\n",
              "    </tr>\n",
              "    <tr>\n",
              "      <th>2</th>\n",
              "      <td>3</td>\n",
              "      <td>1</td>\n",
              "      <td>1.0</td>\n",
              "      <td>0.0</td>\n",
              "      <td>0.321438</td>\n",
              "      <td>0.000</td>\n",
              "      <td>0.0</td>\n",
              "      <td>0.015469</td>\n",
              "      <td>0.0</td>\n",
              "      <td>0.0</td>\n",
              "      <td>1.0</td>\n",
              "      <td>0.0</td>\n",
              "      <td>1.0</td>\n",
              "      <td>0.0</td>\n",
              "      <td>0.0</td>\n",
              "      <td>0.0</td>\n",
              "      <td>0.0</td>\n",
              "    </tr>\n",
              "    <tr>\n",
              "      <th>3</th>\n",
              "      <td>4</td>\n",
              "      <td>1</td>\n",
              "      <td>0.0</td>\n",
              "      <td>0.0</td>\n",
              "      <td>0.434531</td>\n",
              "      <td>0.125</td>\n",
              "      <td>0.0</td>\n",
              "      <td>0.103644</td>\n",
              "      <td>0.0</td>\n",
              "      <td>0.0</td>\n",
              "      <td>1.0</td>\n",
              "      <td>0.0</td>\n",
              "      <td>0.0</td>\n",
              "      <td>0.0</td>\n",
              "      <td>1.0</td>\n",
              "      <td>0.0</td>\n",
              "      <td>0.0</td>\n",
              "    </tr>\n",
              "    <tr>\n",
              "      <th>4</th>\n",
              "      <td>5</td>\n",
              "      <td>0</td>\n",
              "      <td>1.0</td>\n",
              "      <td>1.0</td>\n",
              "      <td>0.434531</td>\n",
              "      <td>0.000</td>\n",
              "      <td>0.0</td>\n",
              "      <td>0.015713</td>\n",
              "      <td>0.0</td>\n",
              "      <td>0.0</td>\n",
              "      <td>1.0</td>\n",
              "      <td>0.0</td>\n",
              "      <td>0.0</td>\n",
              "      <td>1.0</td>\n",
              "      <td>0.0</td>\n",
              "      <td>0.0</td>\n",
              "      <td>0.0</td>\n",
              "    </tr>\n",
              "  </tbody>\n",
              "</table>\n",
              "</div>"
            ],
            "text/plain": [
              "   PassengerId  Survived  Pclass  ...  Title_Mrs  Title_Officer  Title_Royalty\n",
              "0            1         0     1.0  ...        0.0            0.0            0.0\n",
              "1            2         1     0.0  ...        1.0            0.0            0.0\n",
              "2            3         1     1.0  ...        0.0            0.0            0.0\n",
              "3            4         1     0.0  ...        1.0            0.0            0.0\n",
              "4            5         0     1.0  ...        0.0            0.0            0.0\n",
              "\n",
              "[5 rows x 17 columns]"
            ]
          },
          "metadata": {
            "tags": []
          },
          "execution_count": 43
        }
      ]
    },
    {
      "cell_type": "markdown",
      "metadata": {
        "id": "w9EnUKOoga0f"
      },
      "source": [
        "Next, we will split our train and test datasets with respect to predictor (X) and response (y) variables."
      ]
    },
    {
      "cell_type": "code",
      "metadata": {
        "id": "N0erm9Boga0f"
      },
      "source": [
        "X_train, X_test, y_train = train_data.iloc[:, 2:], test_data.iloc[:, 1:], train_data['Survived']"
      ],
      "execution_count": null,
      "outputs": []
    },
    {
      "cell_type": "markdown",
      "metadata": {
        "id": "tlH18Dhuga0g"
      },
      "source": [
        "The 'y_test' is not provided in this dataset. For getting the test scores, we will have to submit our predictions online. To make the entire process a bit smoother, we will write a function that takes in model predictions and generates a file in the required format to submit online."
      ]
    },
    {
      "cell_type": "code",
      "metadata": {
        "id": "UuZ5buLkga0g"
      },
      "source": [
        "# Function to generate submission file to get test score\n",
        "def submission(preds):\n",
        "    test_data['Survived'] = preds\n",
        "    predictions = test_data[['PassengerId', 'Survived']]\n",
        "    predictions.to_csv('submission.csv', index=False)"
      ],
      "execution_count": null,
      "outputs": []
    },
    {
      "cell_type": "markdown",
      "metadata": {
        "id": "Elx3OYRqga0g"
      },
      "source": [
        "Now, we can finally start building machine learning models to predict which of the passengers survived."
      ]
    },
    {
      "cell_type": "markdown",
      "metadata": {
        "id": "rnfldJ9dga0g"
      },
      "source": [
        "### 5.1 Logistic Regression <a id=\"subheading1\"></a>"
      ]
    },
    {
      "cell_type": "markdown",
      "metadata": {
        "id": "SguF6GCbga0g"
      },
      "source": [
        "Important parameters that we will tune:\n",
        "* penalty: Used to specify the norm used in the penalization\n",
        "* C: Inverse of regularization strength\n",
        "\n",
        "For hyperparameter tuning, we will use grid search cross validation over the specified parameter values. We will repeat 5-fold cross validation 10 times so that we can further improve the model performance and reduce overfitting. This will lead to better results for test/unseen data."
      ]
    },
    {
      "cell_type": "code",
      "metadata": {
        "colab": {
          "base_uri": "https://localhost:8080/"
        },
        "id": "RSK4X1OBga0h",
        "outputId": "409d0635-bd58-4071-9f9f-06f4a3b9e19e"
      },
      "source": [
        "# Classification model\n",
        "logreg = LogisticRegression()\n",
        "\n",
        "# Parameters to tune\n",
        "params = [{'penalty': ['l1', 'l2', 'elasticnet', 'none'],\n",
        "           'C': [0.001, 0.01, 0.1, 1, 10, 100, 1000]}]\n",
        "\n",
        "# Hyperparameter tuning using GridSearchCV\n",
        "cv = RepeatedStratifiedKFold(n_splits=5, n_repeats=10, random_state=seed)\n",
        "lr_clf = GridSearchCV(logreg, params, cv=cv, n_jobs=-1)\n",
        "lr_clf.fit(X_train, y_train)"
      ],
      "execution_count": null,
      "outputs": [
        {
          "output_type": "execute_result",
          "data": {
            "text/plain": [
              "GridSearchCV(cv=RepeatedStratifiedKFold(n_repeats=10, n_splits=5, random_state=101),\n",
              "             error_score=nan,\n",
              "             estimator=LogisticRegression(C=1.0, class_weight=None, dual=False,\n",
              "                                          fit_intercept=True,\n",
              "                                          intercept_scaling=1, l1_ratio=None,\n",
              "                                          max_iter=100, multi_class='auto',\n",
              "                                          n_jobs=None, penalty='l2',\n",
              "                                          random_state=None, solver='lbfgs',\n",
              "                                          tol=0.0001, verbose=0,\n",
              "                                          warm_start=False),\n",
              "             iid='deprecated', n_jobs=-1,\n",
              "             param_grid=[{'C': [0.001, 0.01, 0.1, 1, 10, 100, 1000],\n",
              "                          'penalty': ['l1', 'l2', 'elasticnet', 'none']}],\n",
              "             pre_dispatch='2*n_jobs', refit=True, return_train_score=False,\n",
              "             scoring=None, verbose=0)"
            ]
          },
          "metadata": {
            "tags": []
          },
          "execution_count": 48
        }
      ]
    },
    {
      "cell_type": "code",
      "metadata": {
        "colab": {
          "base_uri": "https://localhost:8080/"
        },
        "id": "83E66Dfvga0h",
        "outputId": "fc5c5c41-89a5-4039-e5a0-f31184bcb4d6"
      },
      "source": [
        "# Best parameters\n",
        "lr_clf.best_params_"
      ],
      "execution_count": null,
      "outputs": [
        {
          "output_type": "execute_result",
          "data": {
            "text/plain": [
              "{'C': 10, 'penalty': 'l2'}"
            ]
          },
          "metadata": {
            "tags": []
          },
          "execution_count": 49
        }
      ]
    },
    {
      "cell_type": "code",
      "metadata": {
        "colab": {
          "base_uri": "https://localhost:8080/"
        },
        "id": "b53DaTgaga0h",
        "outputId": "d522299d-0d42-4b05-ce14-057f1757dba1"
      },
      "source": [
        "# Train score\n",
        "lr_clf.best_score_"
      ],
      "execution_count": null,
      "outputs": [
        {
          "output_type": "execute_result",
          "data": {
            "text/plain": [
              "0.8273236843775789"
            ]
          },
          "metadata": {
            "tags": []
          },
          "execution_count": 50
        }
      ]
    },
    {
      "cell_type": "markdown",
      "metadata": {
        "id": "ZHR7hcpQga0h"
      },
      "source": [
        "The train accuracy is 82.7%."
      ]
    },
    {
      "cell_type": "code",
      "metadata": {
        "id": "oC7a3Ew1ga0h"
      },
      "source": [
        "# Test score\n",
        "y_preds = lr_clf.predict(X_test)\n",
        "submission(y_preds)"
      ],
      "execution_count": null,
      "outputs": []
    },
    {
      "cell_type": "markdown",
      "metadata": {
        "id": "FodSs-2Yga0h"
      },
      "source": [
        "After submission, the test accuracy is found to be 76.8%"
      ]
    },
    {
      "cell_type": "markdown",
      "metadata": {
        "id": "tWk3IJTmga0i"
      },
      "source": [
        "### 5.2 Gaussian Naive Bayes <a id=\"subheading2\"></a>"
      ]
    },
    {
      "cell_type": "markdown",
      "metadata": {
        "id": "4-DNv1PBga0i"
      },
      "source": [
        "Using default parameters."
      ]
    },
    {
      "cell_type": "code",
      "metadata": {
        "colab": {
          "base_uri": "https://localhost:8080/"
        },
        "id": "KaSNIYvyga0i",
        "outputId": "2bd22d10-46b4-4d03-87a1-342bac5eb100"
      },
      "source": [
        "# Classification model\n",
        "gnb = GaussianNB()\n",
        "gnb.fit(X_train, y_train)"
      ],
      "execution_count": null,
      "outputs": [
        {
          "output_type": "execute_result",
          "data": {
            "text/plain": [
              "GaussianNB(priors=None, var_smoothing=1e-09)"
            ]
          },
          "metadata": {
            "tags": []
          },
          "execution_count": 52
        }
      ]
    },
    {
      "cell_type": "code",
      "metadata": {
        "id": "70r_jd5Oga0i"
      },
      "source": [
        "# Test score\n",
        "y_preds = gnb.predict(X_test)\n",
        "submission(y_preds)"
      ],
      "execution_count": null,
      "outputs": []
    },
    {
      "cell_type": "markdown",
      "metadata": {
        "id": "vUEiB-UUga0i"
      },
      "source": [
        "After submission, the test accuracy is found to be 75.1%."
      ]
    },
    {
      "cell_type": "markdown",
      "metadata": {
        "id": "Qr4x_-xzga0i"
      },
      "source": [
        "### 5.3 Linear Discriminant Analysis (LDA) <a id=\"subheading3\"></a>"
      ]
    },
    {
      "cell_type": "markdown",
      "metadata": {
        "id": "G_YY8DTyga0j"
      },
      "source": [
        "Using default parameters."
      ]
    },
    {
      "cell_type": "code",
      "metadata": {
        "colab": {
          "base_uri": "https://localhost:8080/"
        },
        "id": "ez3jRki3ga0j",
        "outputId": "b8490e95-0eb2-4e44-e61a-f2cca8a0497b"
      },
      "source": [
        "# Classification model\n",
        "lda = LinearDiscriminantAnalysis()\n",
        "lda.fit(X_train, y_train)"
      ],
      "execution_count": null,
      "outputs": [
        {
          "output_type": "execute_result",
          "data": {
            "text/plain": [
              "LinearDiscriminantAnalysis(n_components=None, priors=None, shrinkage=None,\n",
              "                           solver='svd', store_covariance=False, tol=0.0001)"
            ]
          },
          "metadata": {
            "tags": []
          },
          "execution_count": 54
        }
      ]
    },
    {
      "cell_type": "code",
      "metadata": {
        "id": "HndhWVlqga0j"
      },
      "source": [
        "# Test score\n",
        "y_preds = lda.predict(X_test)\n",
        "submission(y_preds)"
      ],
      "execution_count": null,
      "outputs": []
    },
    {
      "cell_type": "markdown",
      "metadata": {
        "id": "N_14wemcga0j"
      },
      "source": [
        "After submission, the test accuracy is found to be 77.5%."
      ]
    },
    {
      "cell_type": "markdown",
      "metadata": {
        "id": "_Qaz6FPnga0j"
      },
      "source": [
        "### 5.4 k Nearest Neighbors (kNN) <a id=\"subheading4\"></a>"
      ]
    },
    {
      "cell_type": "markdown",
      "metadata": {
        "id": "G-Tt0Kv3ga0j"
      },
      "source": [
        "Important parameters that we will tune:\n",
        "* n_neighbors: Number of neighbors to use\n",
        "* p: For choosing between manhattan distance and euclidean distance metrics"
      ]
    },
    {
      "cell_type": "code",
      "metadata": {
        "colab": {
          "base_uri": "https://localhost:8080/"
        },
        "id": "VsdHBBPNga0j",
        "outputId": "734646aa-45cf-4fc9-d55a-4b67c50605cd"
      },
      "source": [
        "# Classification model\n",
        "knn = KNeighborsClassifier()\n",
        "\n",
        "# Parameters to tune\n",
        "params = [{'n_neighbors': range(1, 21),\n",
        "           'p': [1, 2]}]\n",
        "\n",
        "# Hyperparameter tuning using GridSearchCV\n",
        "cv = RepeatedStratifiedKFold(n_splits=5, n_repeats=10, random_state=seed)\n",
        "knn_clf = GridSearchCV(knn, params, cv=cv, n_jobs=-1)\n",
        "knn_clf.fit(X_train, y_train)"
      ],
      "execution_count": null,
      "outputs": [
        {
          "output_type": "execute_result",
          "data": {
            "text/plain": [
              "GridSearchCV(cv=RepeatedStratifiedKFold(n_repeats=10, n_splits=5, random_state=101),\n",
              "             error_score=nan,\n",
              "             estimator=KNeighborsClassifier(algorithm='auto', leaf_size=30,\n",
              "                                            metric='minkowski',\n",
              "                                            metric_params=None, n_jobs=None,\n",
              "                                            n_neighbors=5, p=2,\n",
              "                                            weights='uniform'),\n",
              "             iid='deprecated', n_jobs=-1,\n",
              "             param_grid=[{'n_neighbors': range(1, 21), 'p': [1, 2]}],\n",
              "             pre_dispatch='2*n_jobs', refit=True, return_train_score=False,\n",
              "             scoring=None, verbose=0)"
            ]
          },
          "metadata": {
            "tags": []
          },
          "execution_count": 57
        }
      ]
    },
    {
      "cell_type": "code",
      "metadata": {
        "colab": {
          "base_uri": "https://localhost:8080/"
        },
        "id": "pAFQ9dzHga0k",
        "outputId": "9ee79da1-50dc-4046-81fc-283883048dc3"
      },
      "source": [
        "# Best parameters\n",
        "knn_clf.best_params_"
      ],
      "execution_count": null,
      "outputs": [
        {
          "output_type": "execute_result",
          "data": {
            "text/plain": [
              "{'n_neighbors': 12, 'p': 1}"
            ]
          },
          "metadata": {
            "tags": []
          },
          "execution_count": 58
        }
      ]
    },
    {
      "cell_type": "code",
      "metadata": {
        "colab": {
          "base_uri": "https://localhost:8080/"
        },
        "id": "KZQSrM11ga0k",
        "outputId": "76f98e58-7930-48a5-ca5e-31a902254dd6"
      },
      "source": [
        "# Train score\n",
        "knn_clf.best_score_"
      ],
      "execution_count": null,
      "outputs": [
        {
          "output_type": "execute_result",
          "data": {
            "text/plain": [
              "0.8214771789500412"
            ]
          },
          "metadata": {
            "tags": []
          },
          "execution_count": 59
        }
      ]
    },
    {
      "cell_type": "markdown",
      "metadata": {
        "id": "ChcIpF1Mga0k"
      },
      "source": [
        "The train accuracy is 82.1%."
      ]
    },
    {
      "cell_type": "code",
      "metadata": {
        "id": "MR3BacbSga0k"
      },
      "source": [
        "# Test score\n",
        "y_preds = knn_clf.predict(X_test)\n",
        "submission(y_preds)"
      ],
      "execution_count": null,
      "outputs": []
    },
    {
      "cell_type": "markdown",
      "metadata": {
        "id": "2T7od3Uega0k"
      },
      "source": [
        "After submission, the test accuracy is found to be 77.3%."
      ]
    },
    {
      "cell_type": "markdown",
      "metadata": {
        "id": "yY0RwkP0ga0k"
      },
      "source": [
        "### 5.5 Support Vector Machine (SVM) <a id=\"subheading5\"></a>"
      ]
    },
    {
      "cell_type": "markdown",
      "metadata": {
        "id": "cAxNHeP_ga0k"
      },
      "source": [
        "Important parameters that we will tune:\n",
        "* C: Penalty parameter for determining the trade-off between setting a larger margin and lowering misclassification\n",
        "* kernel: Specifies the kernel type to be used in the algorithm"
      ]
    },
    {
      "cell_type": "code",
      "metadata": {
        "colab": {
          "base_uri": "https://localhost:8080/"
        },
        "id": "JTcraciAga0l",
        "outputId": "134fc274-115b-4bc6-cae9-03c36bfc7445"
      },
      "source": [
        "# Classification model\n",
        "svm = SVC(max_iter=10000)\n",
        "\n",
        "# Parameters to tune\n",
        "params = [{'C': [0.001, 0.01, 0.1, 1, 10, 100, 1000],\n",
        "           'kernel': ['linear', 'poly', 'rbf', 'sigmoid']}]\n",
        "\n",
        "# Hyperparameter tuning using GridSearchCV\n",
        "cv = RepeatedStratifiedKFold(n_splits=5, n_repeats=10, random_state=seed)\n",
        "svm_clf = GridSearchCV(svm, params, cv=cv, n_jobs=-1)\n",
        "svm_clf.fit(X_train, y_train)"
      ],
      "execution_count": null,
      "outputs": [
        {
          "output_type": "execute_result",
          "data": {
            "text/plain": [
              "GridSearchCV(cv=RepeatedStratifiedKFold(n_repeats=10, n_splits=5, random_state=101),\n",
              "             error_score=nan,\n",
              "             estimator=SVC(C=1.0, break_ties=False, cache_size=200,\n",
              "                           class_weight=None, coef0=0.0,\n",
              "                           decision_function_shape='ovr', degree=3,\n",
              "                           gamma='scale', kernel='rbf', max_iter=10000,\n",
              "                           probability=False, random_state=None, shrinking=True,\n",
              "                           tol=0.001, verbose=False),\n",
              "             iid='deprecated', n_jobs=-1,\n",
              "             param_grid=[{'C': [0.001, 0.01, 0.1, 1, 10, 100, 1000],\n",
              "                          'kernel': ['linear', 'poly', 'rbf', 'sigmoid']}],\n",
              "             pre_dispatch='2*n_jobs', refit=True, return_train_score=False,\n",
              "             scoring=None, verbose=0)"
            ]
          },
          "metadata": {
            "tags": []
          },
          "execution_count": 61
        }
      ]
    },
    {
      "cell_type": "code",
      "metadata": {
        "colab": {
          "base_uri": "https://localhost:8080/"
        },
        "id": "CXjKhsaOga0l",
        "outputId": "dd37a7c1-b9ca-42f2-c1e0-7174b080a145"
      },
      "source": [
        "# Best parameters\n",
        "svm_clf.best_params_"
      ],
      "execution_count": null,
      "outputs": [
        {
          "output_type": "execute_result",
          "data": {
            "text/plain": [
              "{'C': 1, 'kernel': 'poly'}"
            ]
          },
          "metadata": {
            "tags": []
          },
          "execution_count": 62
        }
      ]
    },
    {
      "cell_type": "code",
      "metadata": {
        "colab": {
          "base_uri": "https://localhost:8080/"
        },
        "id": "AEMxrAJ7ga0l",
        "outputId": "d1acb435-3938-4b61-ecf6-323d1af6229b"
      },
      "source": [
        "# Train score\n",
        "svm_clf.best_score_"
      ],
      "execution_count": null,
      "outputs": [
        {
          "output_type": "execute_result",
          "data": {
            "text/plain": [
              "0.8284548974798451"
            ]
          },
          "metadata": {
            "tags": []
          },
          "execution_count": 63
        }
      ]
    },
    {
      "cell_type": "markdown",
      "metadata": {
        "id": "bwtbsdQtga0l"
      },
      "source": [
        "The train accuracy is 82.8%."
      ]
    },
    {
      "cell_type": "code",
      "metadata": {
        "id": "FLiPzR4_ga0l"
      },
      "source": [
        "# Test score\n",
        "y_preds = svm_clf.predict(X_test)\n",
        "submission(y_preds)"
      ],
      "execution_count": null,
      "outputs": []
    },
    {
      "cell_type": "markdown",
      "metadata": {
        "id": "3_F2ftPrga0m"
      },
      "source": [
        "After submission, the test accuracy is found to be 77.8%."
      ]
    },
    {
      "cell_type": "markdown",
      "metadata": {
        "id": "Et-F-qnwga0m"
      },
      "source": [
        "### 5.6 Decision Tree <a id=\"subheading6\"></a>"
      ]
    },
    {
      "cell_type": "markdown",
      "metadata": {
        "id": "JLBq8YuQga0m"
      },
      "source": [
        "Important parameters that we will tune:\n",
        "* max_depth: Maximum depth of the tree\n",
        "* min_samples_split: Minimum number of samples required to split an internal node\n",
        "* max_features: Number of features to consider when looking for the best split"
      ]
    },
    {
      "cell_type": "code",
      "metadata": {
        "colab": {
          "base_uri": "https://localhost:8080/"
        },
        "id": "HtZs5DJPga0m",
        "outputId": "26cb276b-e187-4e11-ce88-9e6544d0d9d8"
      },
      "source": [
        "# Classification model\n",
        "dt = DecisionTreeClassifier(random_state=seed)\n",
        "\n",
        "# Parameters to tune\n",
        "params = [{'max_depth': [5, 7, 10, None],\n",
        "           'min_samples_split': [2, 5, 10],\n",
        "           'max_features': ['sqrt', 5, 7, 10]}]\n",
        "\n",
        "# Hyperparameter tuning using GridSearchCV\n",
        "cv = RepeatedStratifiedKFold(n_splits=5, n_repeats=10, random_state=seed)\n",
        "dt_clf = GridSearchCV(dt, params, cv=cv, n_jobs=-1)\n",
        "dt_clf.fit(X_train, y_train)"
      ],
      "execution_count": null,
      "outputs": [
        {
          "output_type": "execute_result",
          "data": {
            "text/plain": [
              "GridSearchCV(cv=RepeatedStratifiedKFold(n_repeats=10, n_splits=5, random_state=101),\n",
              "             error_score=nan,\n",
              "             estimator=DecisionTreeClassifier(ccp_alpha=0.0, class_weight=None,\n",
              "                                              criterion='gini', max_depth=None,\n",
              "                                              max_features=None,\n",
              "                                              max_leaf_nodes=None,\n",
              "                                              min_impurity_decrease=0.0,\n",
              "                                              min_impurity_split=None,\n",
              "                                              min_samples_leaf=1,\n",
              "                                              min_samples_split=2,\n",
              "                                              min_weight_fraction_leaf=0.0,\n",
              "                                              presort='deprecated',\n",
              "                                              random_state=101,\n",
              "                                              splitter='best'),\n",
              "             iid='deprecated', n_jobs=-1,\n",
              "             param_grid=[{'max_depth': [5, 7, 10, None],\n",
              "                          'max_features': ['sqrt', 5, 7, 10],\n",
              "                          'min_samples_split': [2, 5, 10]}],\n",
              "             pre_dispatch='2*n_jobs', refit=True, return_train_score=False,\n",
              "             scoring=None, verbose=0)"
            ]
          },
          "metadata": {
            "tags": []
          },
          "execution_count": 65
        }
      ]
    },
    {
      "cell_type": "code",
      "metadata": {
        "colab": {
          "base_uri": "https://localhost:8080/"
        },
        "id": "tRTyCAbkga0m",
        "outputId": "585ad95c-90d9-44fb-bbb2-d3bee5f22838"
      },
      "source": [
        "# Best parameters\n",
        "dt_clf.best_params_"
      ],
      "execution_count": null,
      "outputs": [
        {
          "output_type": "execute_result",
          "data": {
            "text/plain": [
              "{'max_depth': 5, 'max_features': 5, 'min_samples_split': 2}"
            ]
          },
          "metadata": {
            "tags": []
          },
          "execution_count": 66
        }
      ]
    },
    {
      "cell_type": "code",
      "metadata": {
        "colab": {
          "base_uri": "https://localhost:8080/"
        },
        "id": "pMrZE51lga0m",
        "outputId": "6d60afa9-6e7a-4e8e-ae2c-0aade01d48bb"
      },
      "source": [
        "# Train score\n",
        "dt_clf.best_score_"
      ],
      "execution_count": null,
      "outputs": [
        {
          "output_type": "execute_result",
          "data": {
            "text/plain": [
              "0.8161994540722403"
            ]
          },
          "metadata": {
            "tags": []
          },
          "execution_count": 67
        }
      ]
    },
    {
      "cell_type": "markdown",
      "metadata": {
        "id": "Gjh5gOPSga0n"
      },
      "source": [
        "The train accuracy is 81.6%."
      ]
    },
    {
      "cell_type": "code",
      "metadata": {
        "id": "TJqDhVPiga0n"
      },
      "source": [
        "# Test score\n",
        "y_preds = dt_clf.predict(X_test)\n",
        "submission(y_preds)"
      ],
      "execution_count": null,
      "outputs": []
    },
    {
      "cell_type": "markdown",
      "metadata": {
        "id": "rwDpO7dKga0n"
      },
      "source": [
        "After submission, the test accuracy is found to be 78%."
      ]
    },
    {
      "cell_type": "markdown",
      "metadata": {
        "id": "DMTBB61kga0n"
      },
      "source": [
        "### 5.7 Random Forest <a id=\"subheading7\"></a>"
      ]
    },
    {
      "cell_type": "markdown",
      "metadata": {
        "id": "f_8V3M5zga0n"
      },
      "source": [
        "Important parameters that we will tune:\n",
        "* n_estimators: Number of trees in the forest\n",
        "* max_depth: Maximum depth of the tree\n",
        "* min_samples_split: Minimum number of samples required to split an internal node\n",
        "* max_features: Number of features to consider when looking for the best split"
      ]
    },
    {
      "cell_type": "code",
      "metadata": {
        "colab": {
          "background_save": true
        },
        "id": "MoQVKNfoga0n",
        "outputId": "890c15ba-276e-4dbd-c177-3dc6052b694c"
      },
      "source": [
        "# Note: This cell will take a while to run depending on the available processing power\n",
        "\n",
        "# Classification model\n",
        "rf = RandomForestClassifier(random_state=seed)\n",
        "\n",
        "# Parameters to tune\n",
        "params = [{'n_estimators': range(50, 550, 50),\n",
        "           'max_depth': [5, 7, 10, None],\n",
        "           'min_samples_split': [2, 5, 10],\n",
        "           'max_features': ['sqrt', 5, 7, 10]}]\n",
        "\n",
        "# Hyperparameter tuning using GridSearchCV\n",
        "cv = RepeatedStratifiedKFold(n_splits=5, n_repeats=5, random_state=seed)\n",
        "rf_clf = GridSearchCV(rf, params, cv=cv, n_jobs=-1)\n",
        "rf_clf.fit(X_train, y_train)"
      ],
      "execution_count": null,
      "outputs": [
        {
          "output_type": "execute_result",
          "data": {
            "text/plain": [
              "GridSearchCV(cv=RepeatedStratifiedKFold(n_repeats=5, n_splits=5, random_state=101),\n",
              "             error_score=nan,\n",
              "             estimator=RandomForestClassifier(bootstrap=True, ccp_alpha=0.0,\n",
              "                                              class_weight=None,\n",
              "                                              criterion='gini', max_depth=None,\n",
              "                                              max_features='auto',\n",
              "                                              max_leaf_nodes=None,\n",
              "                                              max_samples=None,\n",
              "                                              min_impurity_decrease=0.0,\n",
              "                                              min_impurity_split=None,\n",
              "                                              min_samples_leaf=1,\n",
              "                                              min_samples_spl...\n",
              "                                              min_weight_fraction_leaf=0.0,\n",
              "                                              n_estimators=100, n_jobs=None,\n",
              "                                              oob_score=False, random_state=101,\n",
              "                                              verbose=0, warm_start=False),\n",
              "             iid='deprecated', n_jobs=-1,\n",
              "             param_grid=[{'max_depth': [5, 7, 10, None],\n",
              "                          'max_features': ['sqrt', 5, 7, 10],\n",
              "                          'min_samples_split': [2, 5, 10],\n",
              "                          'n_estimators': range(50, 550, 50)}],\n",
              "             pre_dispatch='2*n_jobs', refit=True, return_train_score=False,\n",
              "             scoring=None, verbose=0)"
            ]
          },
          "metadata": {
            "tags": []
          },
          "execution_count": 0
        }
      ]
    },
    {
      "cell_type": "code",
      "metadata": {
        "colab": {
          "background_save": true
        },
        "id": "BVFZPzf9ga0n",
        "outputId": "c9f3a289-8a8b-4484-b664-f01677b3788b"
      },
      "source": [
        "# Best parameters\n",
        "rf_clf.best_params_"
      ],
      "execution_count": null,
      "outputs": [
        {
          "output_type": "execute_result",
          "data": {
            "text/plain": [
              "{'max_depth': 10,\n",
              " 'max_features': 10,\n",
              " 'min_samples_split': 10,\n",
              " 'n_estimators': 300}"
            ]
          },
          "metadata": {
            "tags": []
          },
          "execution_count": 0
        }
      ]
    },
    {
      "cell_type": "code",
      "metadata": {
        "colab": {
          "background_save": true
        },
        "id": "ZlkdwzXTga0o",
        "outputId": "2d2c1cd1-3cd3-482a-aa71-d8bb0ace76bd"
      },
      "source": [
        "# Train score\n",
        "rf_clf.best_score_"
      ],
      "execution_count": null,
      "outputs": [
        {
          "output_type": "execute_result",
          "data": {
            "text/plain": [
              "0.8371281660636068"
            ]
          },
          "metadata": {
            "tags": []
          },
          "execution_count": 0
        }
      ]
    },
    {
      "cell_type": "markdown",
      "metadata": {
        "id": "qLYT33aUga0o"
      },
      "source": [
        "The train accuracy is 83.7%."
      ]
    },
    {
      "cell_type": "code",
      "metadata": {
        "colab": {
          "background_save": true
        },
        "id": "Rt7k4jeAga0o"
      },
      "source": [
        "# Test score\n",
        "y_preds = rf_clf.predict(X_test)\n",
        "submission(y_preds)"
      ],
      "execution_count": null,
      "outputs": []
    },
    {
      "cell_type": "markdown",
      "metadata": {
        "id": "0-J-gG5Bga0o"
      },
      "source": [
        "After submission, the test accuracy is found to be 77%."
      ]
    },
    {
      "cell_type": "markdown",
      "metadata": {
        "id": "IklF7Bgyga0o"
      },
      "source": [
        "### 5.8 XGBoost <a id=\"subheading8\"></a>"
      ]
    },
    {
      "cell_type": "markdown",
      "metadata": {
        "id": "9GgEL4gcga0o"
      },
      "source": [
        "Important parameters that we will tune:\n",
        "* max_depth: Maximum depth of the tree\n",
        "* learning_rate: Controls the contribution of each tree\n",
        "* n_estimators: Number of trees"
      ]
    },
    {
      "cell_type": "code",
      "metadata": {
        "id": "Hz4IfTGkga0o"
      },
      "source": [
        "# Note: This cell will take a while to run depending on the available processing power\n",
        "\n",
        "# Classification model\n",
        "xgboost = xgb.XGBClassifier(random_state=seed)\n",
        "\n",
        "# Parameters to tune\n",
        "params = [{'max_depth': [3, 5, 10],\n",
        "           'learning_rate': [0.01, 0.02, 0.03, 0.05, 0.07, 0.1],\n",
        "           'n_estimators': range(100, 1100, 100)}]\n",
        "\n",
        "# Hyperparameter tuning using GridSearchCV\n",
        "cv = RepeatedStratifiedKFold(n_splits=5, n_repeats=5, random_state=seed)\n",
        "xgb_clf = GridSearchCV(xgboost, params, cv=cv, n_jobs=-1)\n",
        "xgb_clf.fit(X_train, y_train)"
      ],
      "execution_count": null,
      "outputs": []
    },
    {
      "cell_type": "code",
      "metadata": {
        "id": "MLn8Xw0Sga0p"
      },
      "source": [
        "# Best parameters\n",
        "xgb_clf.best_params_"
      ],
      "execution_count": null,
      "outputs": []
    },
    {
      "cell_type": "code",
      "metadata": {
        "id": "l_lTKhqFga0p"
      },
      "source": [
        "# Train score\n",
        "xgb_clf.best_score_"
      ],
      "execution_count": null,
      "outputs": []
    },
    {
      "cell_type": "markdown",
      "metadata": {
        "id": "yyick93-ga0p"
      },
      "source": [
        "The train accuracy is 82.9%."
      ]
    },
    {
      "cell_type": "code",
      "metadata": {
        "id": "zGCFVZPmga0q"
      },
      "source": [
        "# Test score\n",
        "y_preds = xgb_clf.predict(X_test)\n",
        "submission(y_preds)"
      ],
      "execution_count": null,
      "outputs": []
    },
    {
      "cell_type": "markdown",
      "metadata": {
        "id": "QBZYFehyga0q"
      },
      "source": [
        "After submission, the test accuracy is found to be 76.8%."
      ]
    },
    {
      "cell_type": "markdown",
      "metadata": {
        "id": "qXmUa0l7ga0q"
      },
      "source": [
        "### 5.9 Model Stacking <a id=\"subheading9\"></a>"
      ]
    },
    {
      "cell_type": "markdown",
      "metadata": {
        "id": "2pl-NSE4ga0q"
      },
      "source": [
        "In this part, we will stack all of our best performing models using the stacking classifier. Predictions generated by various models will be optimally combined to form a new set of predictions. (Note: The new predictions may not always give better result than the individual models).\n",
        "\n",
        "Using default parameters."
      ]
    },
    {
      "cell_type": "code",
      "metadata": {
        "id": "4IKkNVPega0q"
      },
      "source": [
        "# Models that we will input to stacking classifier\n",
        "base_estimators = list()\n",
        "base_estimators.append(('lda', lda))\n",
        "base_estimators.append(('knn', knn_clf.best_estimator_))\n",
        "base_estimators.append(('svm', svm_clf.best_estimator_))\n",
        "base_estimators.append(('dt', dt_clf.best_estimator_))\n",
        "base_estimators.append(('rf', rf_clf.best_estimator_))\n",
        "\n",
        "# Stacking classifier\n",
        "stacking_clf = StackingClassifier(estimators=base_estimators, final_estimator=LogisticRegression(), cv=5, n_jobs=-1)\n",
        "stacking_clf.fit(X_train, y_train)"
      ],
      "execution_count": null,
      "outputs": []
    },
    {
      "cell_type": "code",
      "metadata": {
        "id": "cOOrFZM1ga0q"
      },
      "source": [
        "# Test score\n",
        "y_preds = stacking_clf.predict(X_test)\n",
        "submission(y_preds)"
      ],
      "execution_count": null,
      "outputs": []
    },
    {
      "cell_type": "markdown",
      "metadata": {
        "id": "SRyMfzQ3ga0r"
      },
      "source": [
        "After submission, the test accuracy is found to be 78%."
      ]
    },
    {
      "cell_type": "markdown",
      "metadata": {
        "id": "j8DmgsQ5ga0r"
      },
      "source": [
        "### 5.10 Result Comparison <a id=\"subheading10\"></a>"
      ]
    },
    {
      "cell_type": "markdown",
      "metadata": {
        "id": "XhK5o4Knga0r"
      },
      "source": [
        "| Model | Train Accuracy (%) | Test Accuracy (%) |\n",
        "| ----- | ------------------ | ----------------- |\n",
        "| Logistic Regression | 82.7 | 76.8 |\n",
        "| Gaussian Naive Bayes | N/A | 75.1 |\n",
        "| Linear Discriminant Analysis | N/A | 77.5 |\n",
        "| k Nearest Neighbors | 82.1 | 77.3 |\n",
        "| Support Vector Machine | 82.8| 77.8 |\n",
        "| Decision Tree | 81.6 | 78 |\n",
        "| Random Forest | 83.7 | 77 |\n",
        "| XGBoost | 82.9 | 76.8 |\n",
        "| Model Stacking | N/A | 78 |"
      ]
    },
    {
      "cell_type": "markdown",
      "metadata": {
        "id": "Hat3_DoOga0r"
      },
      "source": [
        "Looking at the above table, we can observe the following:\n",
        "* Random Forest gave the highest train accuracy of 83.7%\n",
        "* Decision Tree and Stacking Classifier performed best for test/unseen data with an accuracy of 78%\n",
        "* Most of the models performed really similar in terms of test accuracy\n",
        "* Due to the small dataset size, all models have (slightly) overfitted the train data, giving lower test scores than expected"
      ]
    },
    {
      "cell_type": "markdown",
      "metadata": {
        "id": "H7BCLYTFga0r"
      },
      "source": [
        "## 6. Conclusion <a id=\"heading6\"></a>"
      ]
    },
    {
      "cell_type": "markdown",
      "metadata": {
        "id": "STCvXlOCga0r"
      },
      "source": [
        "We started by reading in the dataset, preprocessing it, exploring it to find useful insights, and finally built various machine learning models and evaluated them. The main objective of this project was to analyze the titanic dataset and predict whether a passenger will survive or not, based on various input features. \n",
        "\n",
        "Finally many thanks to Dr.Mohamed Hassan for his efforts alongside the semester."
      ]
    },
    {
      "cell_type": "code",
      "metadata": {
        "id": "gBLlo0Kbrvna"
      },
      "source": [
        ""
      ],
      "execution_count": null,
      "outputs": []
    }
  ]
}